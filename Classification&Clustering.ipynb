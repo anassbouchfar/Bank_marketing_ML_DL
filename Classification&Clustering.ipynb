{
  "cells": [
    {
      "cell_type": "markdown",
      "metadata": {
        "id": "view-in-github",
        "colab_type": "text"
      },
      "source": [
        "<a href=\"https://colab.research.google.com/github/anassbouchfar/Bank_marketing_ML_DL/blob/main/Classification%26Clustering.ipynb\" target=\"_parent\"><img src=\"https://colab.research.google.com/assets/colab-badge.svg\" alt=\"Open In Colab\"/></a>"
      ]
    },
    {
      "cell_type": "markdown",
      "source": [],
      "metadata": {
        "id": "VZZzDyV_rlPl"
      },
      "id": "VZZzDyV_rlPl"
    },
    {
      "cell_type": "markdown",
      "metadata": {
        "id": "_EP1GPMPqCLh"
      },
      "source": [
        "# Exploratory Data Analysis (EDA)"
      ],
      "id": "_EP1GPMPqCLh"
    },
    {
      "cell_type": "markdown",
      "metadata": {
        "id": "PZtmCkQXqCLk"
      },
      "source": [
        "## Importer les librairies"
      ],
      "id": "PZtmCkQXqCLk"
    },
    {
      "cell_type": "code",
      "execution_count": null,
      "metadata": {
        "id": "o8yz4zqMqCLl"
      },
      "outputs": [],
      "source": [
        "import pandas as pd \n",
        "import numpy as np\n",
        "import matplotlib.pyplot as plt\n",
        "from matplotlib import rcParams\n",
        "import seaborn as sns\n",
        "%matplotlib inline\n",
        "import warnings"
      ],
      "id": "o8yz4zqMqCLl"
    },
    {
      "cell_type": "markdown",
      "metadata": {
        "id": "qjenYHvzqCLn"
      },
      "source": [
        "## Importer l'ensemble de données"
      ],
      "id": "qjenYHvzqCLn"
    },
    {
      "cell_type": "code",
      "execution_count": null,
      "metadata": {
        "colab": {
          "base_uri": "https://localhost:8080/",
          "height": 270
        },
        "id": "gPPsd76YqCLn",
        "outputId": "8323be5d-2c22-4087-e868-5d97a73bd4a2"
      },
      "outputs": [
        {
          "output_type": "execute_result",
          "data": {
            "text/plain": [
              "   age         job  marital  education default  balance housing loan  contact  \\\n",
              "0   59      admin.  married  secondary      no     2343     yes   no  unknown   \n",
              "1   56      admin.  married  secondary      no       45      no   no  unknown   \n",
              "2   41  technician  married  secondary      no     1270     yes   no  unknown   \n",
              "3   55    services  married  secondary      no     2476     yes   no  unknown   \n",
              "4   54      admin.  married   tertiary      no      184      no   no  unknown   \n",
              "\n",
              "   day month  duration  campaign  pdays  previous poutcome deposit  \n",
              "0    5   may      1042         1     -1         0  unknown     yes  \n",
              "1    5   may      1467         1     -1         0  unknown     yes  \n",
              "2    5   may      1389         1     -1         0  unknown     yes  \n",
              "3    5   may       579         1     -1         0  unknown     yes  \n",
              "4    5   may       673         2     -1         0  unknown     yes  "
            ],
            "text/html": [
              "\n",
              "  <div id=\"df-f270bb55-a9ab-47cb-b913-c9da67496bcc\">\n",
              "    <div class=\"colab-df-container\">\n",
              "      <div>\n",
              "<style scoped>\n",
              "    .dataframe tbody tr th:only-of-type {\n",
              "        vertical-align: middle;\n",
              "    }\n",
              "\n",
              "    .dataframe tbody tr th {\n",
              "        vertical-align: top;\n",
              "    }\n",
              "\n",
              "    .dataframe thead th {\n",
              "        text-align: right;\n",
              "    }\n",
              "</style>\n",
              "<table border=\"1\" class=\"dataframe\">\n",
              "  <thead>\n",
              "    <tr style=\"text-align: right;\">\n",
              "      <th></th>\n",
              "      <th>age</th>\n",
              "      <th>job</th>\n",
              "      <th>marital</th>\n",
              "      <th>education</th>\n",
              "      <th>default</th>\n",
              "      <th>balance</th>\n",
              "      <th>housing</th>\n",
              "      <th>loan</th>\n",
              "      <th>contact</th>\n",
              "      <th>day</th>\n",
              "      <th>month</th>\n",
              "      <th>duration</th>\n",
              "      <th>campaign</th>\n",
              "      <th>pdays</th>\n",
              "      <th>previous</th>\n",
              "      <th>poutcome</th>\n",
              "      <th>deposit</th>\n",
              "    </tr>\n",
              "  </thead>\n",
              "  <tbody>\n",
              "    <tr>\n",
              "      <th>0</th>\n",
              "      <td>59</td>\n",
              "      <td>admin.</td>\n",
              "      <td>married</td>\n",
              "      <td>secondary</td>\n",
              "      <td>no</td>\n",
              "      <td>2343</td>\n",
              "      <td>yes</td>\n",
              "      <td>no</td>\n",
              "      <td>unknown</td>\n",
              "      <td>5</td>\n",
              "      <td>may</td>\n",
              "      <td>1042</td>\n",
              "      <td>1</td>\n",
              "      <td>-1</td>\n",
              "      <td>0</td>\n",
              "      <td>unknown</td>\n",
              "      <td>yes</td>\n",
              "    </tr>\n",
              "    <tr>\n",
              "      <th>1</th>\n",
              "      <td>56</td>\n",
              "      <td>admin.</td>\n",
              "      <td>married</td>\n",
              "      <td>secondary</td>\n",
              "      <td>no</td>\n",
              "      <td>45</td>\n",
              "      <td>no</td>\n",
              "      <td>no</td>\n",
              "      <td>unknown</td>\n",
              "      <td>5</td>\n",
              "      <td>may</td>\n",
              "      <td>1467</td>\n",
              "      <td>1</td>\n",
              "      <td>-1</td>\n",
              "      <td>0</td>\n",
              "      <td>unknown</td>\n",
              "      <td>yes</td>\n",
              "    </tr>\n",
              "    <tr>\n",
              "      <th>2</th>\n",
              "      <td>41</td>\n",
              "      <td>technician</td>\n",
              "      <td>married</td>\n",
              "      <td>secondary</td>\n",
              "      <td>no</td>\n",
              "      <td>1270</td>\n",
              "      <td>yes</td>\n",
              "      <td>no</td>\n",
              "      <td>unknown</td>\n",
              "      <td>5</td>\n",
              "      <td>may</td>\n",
              "      <td>1389</td>\n",
              "      <td>1</td>\n",
              "      <td>-1</td>\n",
              "      <td>0</td>\n",
              "      <td>unknown</td>\n",
              "      <td>yes</td>\n",
              "    </tr>\n",
              "    <tr>\n",
              "      <th>3</th>\n",
              "      <td>55</td>\n",
              "      <td>services</td>\n",
              "      <td>married</td>\n",
              "      <td>secondary</td>\n",
              "      <td>no</td>\n",
              "      <td>2476</td>\n",
              "      <td>yes</td>\n",
              "      <td>no</td>\n",
              "      <td>unknown</td>\n",
              "      <td>5</td>\n",
              "      <td>may</td>\n",
              "      <td>579</td>\n",
              "      <td>1</td>\n",
              "      <td>-1</td>\n",
              "      <td>0</td>\n",
              "      <td>unknown</td>\n",
              "      <td>yes</td>\n",
              "    </tr>\n",
              "    <tr>\n",
              "      <th>4</th>\n",
              "      <td>54</td>\n",
              "      <td>admin.</td>\n",
              "      <td>married</td>\n",
              "      <td>tertiary</td>\n",
              "      <td>no</td>\n",
              "      <td>184</td>\n",
              "      <td>no</td>\n",
              "      <td>no</td>\n",
              "      <td>unknown</td>\n",
              "      <td>5</td>\n",
              "      <td>may</td>\n",
              "      <td>673</td>\n",
              "      <td>2</td>\n",
              "      <td>-1</td>\n",
              "      <td>0</td>\n",
              "      <td>unknown</td>\n",
              "      <td>yes</td>\n",
              "    </tr>\n",
              "  </tbody>\n",
              "</table>\n",
              "</div>\n",
              "      <button class=\"colab-df-convert\" onclick=\"convertToInteractive('df-f270bb55-a9ab-47cb-b913-c9da67496bcc')\"\n",
              "              title=\"Convert this dataframe to an interactive table.\"\n",
              "              style=\"display:none;\">\n",
              "        \n",
              "  <svg xmlns=\"http://www.w3.org/2000/svg\" height=\"24px\"viewBox=\"0 0 24 24\"\n",
              "       width=\"24px\">\n",
              "    <path d=\"M0 0h24v24H0V0z\" fill=\"none\"/>\n",
              "    <path d=\"M18.56 5.44l.94 2.06.94-2.06 2.06-.94-2.06-.94-.94-2.06-.94 2.06-2.06.94zm-11 1L8.5 8.5l.94-2.06 2.06-.94-2.06-.94L8.5 2.5l-.94 2.06-2.06.94zm10 10l.94 2.06.94-2.06 2.06-.94-2.06-.94-.94-2.06-.94 2.06-2.06.94z\"/><path d=\"M17.41 7.96l-1.37-1.37c-.4-.4-.92-.59-1.43-.59-.52 0-1.04.2-1.43.59L10.3 9.45l-7.72 7.72c-.78.78-.78 2.05 0 2.83L4 21.41c.39.39.9.59 1.41.59.51 0 1.02-.2 1.41-.59l7.78-7.78 2.81-2.81c.8-.78.8-2.07 0-2.86zM5.41 20L4 18.59l7.72-7.72 1.47 1.35L5.41 20z\"/>\n",
              "  </svg>\n",
              "      </button>\n",
              "      \n",
              "  <style>\n",
              "    .colab-df-container {\n",
              "      display:flex;\n",
              "      flex-wrap:wrap;\n",
              "      gap: 12px;\n",
              "    }\n",
              "\n",
              "    .colab-df-convert {\n",
              "      background-color: #E8F0FE;\n",
              "      border: none;\n",
              "      border-radius: 50%;\n",
              "      cursor: pointer;\n",
              "      display: none;\n",
              "      fill: #1967D2;\n",
              "      height: 32px;\n",
              "      padding: 0 0 0 0;\n",
              "      width: 32px;\n",
              "    }\n",
              "\n",
              "    .colab-df-convert:hover {\n",
              "      background-color: #E2EBFA;\n",
              "      box-shadow: 0px 1px 2px rgba(60, 64, 67, 0.3), 0px 1px 3px 1px rgba(60, 64, 67, 0.15);\n",
              "      fill: #174EA6;\n",
              "    }\n",
              "\n",
              "    [theme=dark] .colab-df-convert {\n",
              "      background-color: #3B4455;\n",
              "      fill: #D2E3FC;\n",
              "    }\n",
              "\n",
              "    [theme=dark] .colab-df-convert:hover {\n",
              "      background-color: #434B5C;\n",
              "      box-shadow: 0px 1px 3px 1px rgba(0, 0, 0, 0.15);\n",
              "      filter: drop-shadow(0px 1px 2px rgba(0, 0, 0, 0.3));\n",
              "      fill: #FFFFFF;\n",
              "    }\n",
              "  </style>\n",
              "\n",
              "      <script>\n",
              "        const buttonEl =\n",
              "          document.querySelector('#df-f270bb55-a9ab-47cb-b913-c9da67496bcc button.colab-df-convert');\n",
              "        buttonEl.style.display =\n",
              "          google.colab.kernel.accessAllowed ? 'block' : 'none';\n",
              "\n",
              "        async function convertToInteractive(key) {\n",
              "          const element = document.querySelector('#df-f270bb55-a9ab-47cb-b913-c9da67496bcc');\n",
              "          const dataTable =\n",
              "            await google.colab.kernel.invokeFunction('convertToInteractive',\n",
              "                                                     [key], {});\n",
              "          if (!dataTable) return;\n",
              "\n",
              "          const docLinkHtml = 'Like what you see? Visit the ' +\n",
              "            '<a target=\"_blank\" href=https://colab.research.google.com/notebooks/data_table.ipynb>data table notebook</a>'\n",
              "            + ' to learn more about interactive tables.';\n",
              "          element.innerHTML = '';\n",
              "          dataTable['output_type'] = 'display_data';\n",
              "          await google.colab.output.renderOutput(dataTable, element);\n",
              "          const docLink = document.createElement('div');\n",
              "          docLink.innerHTML = docLinkHtml;\n",
              "          element.appendChild(docLink);\n",
              "        }\n",
              "      </script>\n",
              "    </div>\n",
              "  </div>\n",
              "  "
            ]
          },
          "metadata": {},
          "execution_count": 2
        }
      ],
      "source": [
        "data=pd.read_csv(\"bank.csv\")\n",
        "data.head()"
      ],
      "id": "gPPsd76YqCLn"
    },
    {
      "cell_type": "markdown",
      "metadata": {
        "id": "AW0p_E0AqCLp"
      },
      "source": [
        "## Vérifier les valeurs nulles"
      ],
      "id": "AW0p_E0AqCLp"
    },
    {
      "cell_type": "code",
      "execution_count": null,
      "metadata": {
        "scrolled": true,
        "id": "Qkk5EJNAqCLq",
        "colab": {
          "base_uri": "https://localhost:8080/"
        },
        "outputId": "3ecd4070-47d2-44c6-e822-b42f5c573ca5"
      },
      "outputs": [
        {
          "output_type": "execute_result",
          "data": {
            "text/plain": [
              "age          0\n",
              "job          0\n",
              "marital      0\n",
              "education    0\n",
              "default      0\n",
              "balance      0\n",
              "housing      0\n",
              "loan         0\n",
              "contact      0\n",
              "day          0\n",
              "month        0\n",
              "duration     0\n",
              "campaign     0\n",
              "pdays        0\n",
              "previous     0\n",
              "poutcome     0\n",
              "deposit      0\n",
              "dtype: int64"
            ]
          },
          "metadata": {},
          "execution_count": 3
        }
      ],
      "source": [
        "data.isnull().sum()"
      ],
      "id": "Qkk5EJNAqCLq"
    },
    {
      "cell_type": "markdown",
      "metadata": {
        "id": "ZXJtgc57qCLq"
      },
      "source": [
        "Il n'y a pas de valeurs nulles dans l'ensemble de données"
      ],
      "id": "ZXJtgc57qCLq"
    },
    {
      "cell_type": "markdown",
      "metadata": {
        "id": "lRTDM1spqCLr"
      },
      "source": [
        "## Vérifier les valeurs dupliquées"
      ],
      "id": "lRTDM1spqCLr"
    },
    {
      "cell_type": "code",
      "execution_count": null,
      "metadata": {
        "colab": {
          "base_uri": "https://localhost:8080/"
        },
        "id": "sG28cnR8qCLr",
        "outputId": "7993b2cb-4d9a-4923-f4c5-ea7fa4c01567"
      },
      "outputs": [
        {
          "output_type": "execute_result",
          "data": {
            "text/plain": [
              "0"
            ]
          },
          "metadata": {},
          "execution_count": 4
        }
      ],
      "source": [
        "data.duplicated().sum()"
      ],
      "id": "sG28cnR8qCLr"
    },
    {
      "cell_type": "markdown",
      "metadata": {
        "id": "TLRFDzt3qCLs"
      },
      "source": [
        "Il n'y a pas de valeurs dupliquées dans l'ensemble de données"
      ],
      "id": "TLRFDzt3qCLs"
    },
    {
      "cell_type": "markdown",
      "metadata": {
        "id": "FySo98V7qCLs"
      },
      "source": [
        "## Résumé statistique de l'ensemble de données"
      ],
      "id": "FySo98V7qCLs"
    },
    {
      "cell_type": "code",
      "execution_count": null,
      "metadata": {
        "scrolled": true,
        "colab": {
          "base_uri": "https://localhost:8080/",
          "height": 300
        },
        "id": "xlVvgZYuqCLs",
        "outputId": "62131872-4b69-4f62-abbc-a2003565445f"
      },
      "outputs": [
        {
          "output_type": "execute_result",
          "data": {
            "text/plain": [
              "                age       balance           day      duration      campaign  \\\n",
              "count  11162.000000  11162.000000  11162.000000  11162.000000  11162.000000   \n",
              "mean      41.231948   1528.538524     15.658036    371.993818      2.508421   \n",
              "std       11.913369   3225.413326      8.420740    347.128386      2.722077   \n",
              "min       18.000000  -6847.000000      1.000000      2.000000      1.000000   \n",
              "25%       32.000000    122.000000      8.000000    138.000000      1.000000   \n",
              "50%       39.000000    550.000000     15.000000    255.000000      2.000000   \n",
              "75%       49.000000   1708.000000     22.000000    496.000000      3.000000   \n",
              "max       95.000000  81204.000000     31.000000   3881.000000     63.000000   \n",
              "\n",
              "              pdays      previous  \n",
              "count  11162.000000  11162.000000  \n",
              "mean      51.330407      0.832557  \n",
              "std      108.758282      2.292007  \n",
              "min       -1.000000      0.000000  \n",
              "25%       -1.000000      0.000000  \n",
              "50%       -1.000000      0.000000  \n",
              "75%       20.750000      1.000000  \n",
              "max      854.000000     58.000000  "
            ],
            "text/html": [
              "\n",
              "  <div id=\"df-eb3ef046-ed44-45d4-a015-c8d655f3f53e\">\n",
              "    <div class=\"colab-df-container\">\n",
              "      <div>\n",
              "<style scoped>\n",
              "    .dataframe tbody tr th:only-of-type {\n",
              "        vertical-align: middle;\n",
              "    }\n",
              "\n",
              "    .dataframe tbody tr th {\n",
              "        vertical-align: top;\n",
              "    }\n",
              "\n",
              "    .dataframe thead th {\n",
              "        text-align: right;\n",
              "    }\n",
              "</style>\n",
              "<table border=\"1\" class=\"dataframe\">\n",
              "  <thead>\n",
              "    <tr style=\"text-align: right;\">\n",
              "      <th></th>\n",
              "      <th>age</th>\n",
              "      <th>balance</th>\n",
              "      <th>day</th>\n",
              "      <th>duration</th>\n",
              "      <th>campaign</th>\n",
              "      <th>pdays</th>\n",
              "      <th>previous</th>\n",
              "    </tr>\n",
              "  </thead>\n",
              "  <tbody>\n",
              "    <tr>\n",
              "      <th>count</th>\n",
              "      <td>11162.000000</td>\n",
              "      <td>11162.000000</td>\n",
              "      <td>11162.000000</td>\n",
              "      <td>11162.000000</td>\n",
              "      <td>11162.000000</td>\n",
              "      <td>11162.000000</td>\n",
              "      <td>11162.000000</td>\n",
              "    </tr>\n",
              "    <tr>\n",
              "      <th>mean</th>\n",
              "      <td>41.231948</td>\n",
              "      <td>1528.538524</td>\n",
              "      <td>15.658036</td>\n",
              "      <td>371.993818</td>\n",
              "      <td>2.508421</td>\n",
              "      <td>51.330407</td>\n",
              "      <td>0.832557</td>\n",
              "    </tr>\n",
              "    <tr>\n",
              "      <th>std</th>\n",
              "      <td>11.913369</td>\n",
              "      <td>3225.413326</td>\n",
              "      <td>8.420740</td>\n",
              "      <td>347.128386</td>\n",
              "      <td>2.722077</td>\n",
              "      <td>108.758282</td>\n",
              "      <td>2.292007</td>\n",
              "    </tr>\n",
              "    <tr>\n",
              "      <th>min</th>\n",
              "      <td>18.000000</td>\n",
              "      <td>-6847.000000</td>\n",
              "      <td>1.000000</td>\n",
              "      <td>2.000000</td>\n",
              "      <td>1.000000</td>\n",
              "      <td>-1.000000</td>\n",
              "      <td>0.000000</td>\n",
              "    </tr>\n",
              "    <tr>\n",
              "      <th>25%</th>\n",
              "      <td>32.000000</td>\n",
              "      <td>122.000000</td>\n",
              "      <td>8.000000</td>\n",
              "      <td>138.000000</td>\n",
              "      <td>1.000000</td>\n",
              "      <td>-1.000000</td>\n",
              "      <td>0.000000</td>\n",
              "    </tr>\n",
              "    <tr>\n",
              "      <th>50%</th>\n",
              "      <td>39.000000</td>\n",
              "      <td>550.000000</td>\n",
              "      <td>15.000000</td>\n",
              "      <td>255.000000</td>\n",
              "      <td>2.000000</td>\n",
              "      <td>-1.000000</td>\n",
              "      <td>0.000000</td>\n",
              "    </tr>\n",
              "    <tr>\n",
              "      <th>75%</th>\n",
              "      <td>49.000000</td>\n",
              "      <td>1708.000000</td>\n",
              "      <td>22.000000</td>\n",
              "      <td>496.000000</td>\n",
              "      <td>3.000000</td>\n",
              "      <td>20.750000</td>\n",
              "      <td>1.000000</td>\n",
              "    </tr>\n",
              "    <tr>\n",
              "      <th>max</th>\n",
              "      <td>95.000000</td>\n",
              "      <td>81204.000000</td>\n",
              "      <td>31.000000</td>\n",
              "      <td>3881.000000</td>\n",
              "      <td>63.000000</td>\n",
              "      <td>854.000000</td>\n",
              "      <td>58.000000</td>\n",
              "    </tr>\n",
              "  </tbody>\n",
              "</table>\n",
              "</div>\n",
              "      <button class=\"colab-df-convert\" onclick=\"convertToInteractive('df-eb3ef046-ed44-45d4-a015-c8d655f3f53e')\"\n",
              "              title=\"Convert this dataframe to an interactive table.\"\n",
              "              style=\"display:none;\">\n",
              "        \n",
              "  <svg xmlns=\"http://www.w3.org/2000/svg\" height=\"24px\"viewBox=\"0 0 24 24\"\n",
              "       width=\"24px\">\n",
              "    <path d=\"M0 0h24v24H0V0z\" fill=\"none\"/>\n",
              "    <path d=\"M18.56 5.44l.94 2.06.94-2.06 2.06-.94-2.06-.94-.94-2.06-.94 2.06-2.06.94zm-11 1L8.5 8.5l.94-2.06 2.06-.94-2.06-.94L8.5 2.5l-.94 2.06-2.06.94zm10 10l.94 2.06.94-2.06 2.06-.94-2.06-.94-.94-2.06-.94 2.06-2.06.94z\"/><path d=\"M17.41 7.96l-1.37-1.37c-.4-.4-.92-.59-1.43-.59-.52 0-1.04.2-1.43.59L10.3 9.45l-7.72 7.72c-.78.78-.78 2.05 0 2.83L4 21.41c.39.39.9.59 1.41.59.51 0 1.02-.2 1.41-.59l7.78-7.78 2.81-2.81c.8-.78.8-2.07 0-2.86zM5.41 20L4 18.59l7.72-7.72 1.47 1.35L5.41 20z\"/>\n",
              "  </svg>\n",
              "      </button>\n",
              "      \n",
              "  <style>\n",
              "    .colab-df-container {\n",
              "      display:flex;\n",
              "      flex-wrap:wrap;\n",
              "      gap: 12px;\n",
              "    }\n",
              "\n",
              "    .colab-df-convert {\n",
              "      background-color: #E8F0FE;\n",
              "      border: none;\n",
              "      border-radius: 50%;\n",
              "      cursor: pointer;\n",
              "      display: none;\n",
              "      fill: #1967D2;\n",
              "      height: 32px;\n",
              "      padding: 0 0 0 0;\n",
              "      width: 32px;\n",
              "    }\n",
              "\n",
              "    .colab-df-convert:hover {\n",
              "      background-color: #E2EBFA;\n",
              "      box-shadow: 0px 1px 2px rgba(60, 64, 67, 0.3), 0px 1px 3px 1px rgba(60, 64, 67, 0.15);\n",
              "      fill: #174EA6;\n",
              "    }\n",
              "\n",
              "    [theme=dark] .colab-df-convert {\n",
              "      background-color: #3B4455;\n",
              "      fill: #D2E3FC;\n",
              "    }\n",
              "\n",
              "    [theme=dark] .colab-df-convert:hover {\n",
              "      background-color: #434B5C;\n",
              "      box-shadow: 0px 1px 3px 1px rgba(0, 0, 0, 0.15);\n",
              "      filter: drop-shadow(0px 1px 2px rgba(0, 0, 0, 0.3));\n",
              "      fill: #FFFFFF;\n",
              "    }\n",
              "  </style>\n",
              "\n",
              "      <script>\n",
              "        const buttonEl =\n",
              "          document.querySelector('#df-eb3ef046-ed44-45d4-a015-c8d655f3f53e button.colab-df-convert');\n",
              "        buttonEl.style.display =\n",
              "          google.colab.kernel.accessAllowed ? 'block' : 'none';\n",
              "\n",
              "        async function convertToInteractive(key) {\n",
              "          const element = document.querySelector('#df-eb3ef046-ed44-45d4-a015-c8d655f3f53e');\n",
              "          const dataTable =\n",
              "            await google.colab.kernel.invokeFunction('convertToInteractive',\n",
              "                                                     [key], {});\n",
              "          if (!dataTable) return;\n",
              "\n",
              "          const docLinkHtml = 'Like what you see? Visit the ' +\n",
              "            '<a target=\"_blank\" href=https://colab.research.google.com/notebooks/data_table.ipynb>data table notebook</a>'\n",
              "            + ' to learn more about interactive tables.';\n",
              "          element.innerHTML = '';\n",
              "          dataTable['output_type'] = 'display_data';\n",
              "          await google.colab.output.renderOutput(dataTable, element);\n",
              "          const docLink = document.createElement('div');\n",
              "          docLink.innerHTML = docLinkHtml;\n",
              "          element.appendChild(docLink);\n",
              "        }\n",
              "      </script>\n",
              "    </div>\n",
              "  </div>\n",
              "  "
            ]
          },
          "metadata": {},
          "execution_count": 10
        }
      ],
      "source": [
        "data.describe()"
      ],
      "id": "xlVvgZYuqCLs"
    },
    {
      "cell_type": "markdown",
      "metadata": {
        "id": "7S_LxlV9qCLt"
      },
      "source": [
        "## Les types des variables de l'ensemble de données"
      ],
      "id": "7S_LxlV9qCLt"
    },
    {
      "cell_type": "code",
      "execution_count": null,
      "metadata": {
        "scrolled": true,
        "id": "MVuNNtHYqCLt",
        "colab": {
          "base_uri": "https://localhost:8080/"
        },
        "outputId": "40edddcc-bd03-4db0-e697-5b878895bd69"
      },
      "outputs": [
        {
          "output_type": "stream",
          "name": "stdout",
          "text": [
            "<class 'pandas.core.frame.DataFrame'>\n",
            "RangeIndex: 11162 entries, 0 to 11161\n",
            "Data columns (total 17 columns):\n",
            " #   Column     Non-Null Count  Dtype \n",
            "---  ------     --------------  ----- \n",
            " 0   age        11162 non-null  int64 \n",
            " 1   job        11162 non-null  object\n",
            " 2   marital    11162 non-null  object\n",
            " 3   education  11162 non-null  object\n",
            " 4   default    11162 non-null  object\n",
            " 5   balance    11162 non-null  int64 \n",
            " 6   housing    11162 non-null  object\n",
            " 7   loan       11162 non-null  object\n",
            " 8   contact    11162 non-null  object\n",
            " 9   day        11162 non-null  int64 \n",
            " 10  month      11162 non-null  object\n",
            " 11  duration   11162 non-null  int64 \n",
            " 12  campaign   11162 non-null  int64 \n",
            " 13  pdays      11162 non-null  int64 \n",
            " 14  previous   11162 non-null  int64 \n",
            " 15  poutcome   11162 non-null  object\n",
            " 16  deposit    11162 non-null  object\n",
            "dtypes: int64(7), object(10)\n",
            "memory usage: 1.4+ MB\n"
          ]
        }
      ],
      "source": [
        "data.info()"
      ],
      "id": "MVuNNtHYqCLt"
    },
    {
      "cell_type": "markdown",
      "metadata": {
        "id": "AJAfpXX1qCLt"
      },
      "source": [
        "## Vérifier la balance de l'ensemble des données"
      ],
      "id": "AJAfpXX1qCLt"
    },
    {
      "cell_type": "code",
      "execution_count": null,
      "metadata": {
        "scrolled": true,
        "id": "bypvs4OTqCLt",
        "colab": {
          "base_uri": "https://localhost:8080/",
          "height": 350
        },
        "outputId": "14124dc7-3d31-4302-b963-0669deaa7ce3"
      },
      "outputs": [
        {
          "output_type": "display_data",
          "data": {
            "text/plain": [
              "<Figure size 864x360 with 2 Axes>"
            ],
            "image/png": "[encoded data removed]"
          },
          "metadata": {
            "needs_background": "light"
          }
        }
      ],
      "source": [
        "plt.figure(figsize=(12,5))\n",
        "plt.subplot(1,2,1)\n",
        "sns.countplot(x='deposit',data=data)\n",
        "plt.title(\"Yes et No\")\n",
        "plt.subplot(1,2,2)\n",
        "labels =data['deposit'].value_counts(sort = True).index\n",
        "sizes = data['deposit'].value_counts(sort = True)\n",
        "plt.pie(sizes,labels=labels,autopct='%1.1f%%', shadow=True, startangle=270,)\n",
        "plt.title('Total de Yes et No',size = 12)\n",
        "plt.show()"
      ],
      "id": "bypvs4OTqCLt"
    },
    {
      "cell_type": "markdown",
      "metadata": {
        "id": "zVjZk68XqCLu"
      },
      "source": [
        "Notre ensemble de données est en balance "
      ],
      "id": "zVjZk68XqCLu"
    },
    {
      "cell_type": "markdown",
      "metadata": {
        "id": "8Z4NnjEPqCLu"
      },
      "source": [
        "## Analyse du type de données d'objet"
      ],
      "id": "8Z4NnjEPqCLu"
    },
    {
      "cell_type": "code",
      "execution_count": null,
      "metadata": {
        "id": "w5ozKxP5qCLu",
        "colab": {
          "base_uri": "https://localhost:8080/",
          "height": 891
        },
        "outputId": "a4894548-49db-4bf3-9a3a-03377bc7dced"
      },
      "outputs": [
        {
          "output_type": "display_data",
          "data": {
            "text/plain": [
              "<Figure size 1440x1440 with 9 Axes>"
            ],
            "image/png": "[encoded data removed]"
          },
          "metadata": {
            "needs_background": "light"
          }
        }
      ],
      "source": [
        "colonnes_obj=data.select_dtypes('O').columns\n",
        "fig, axes = plt.subplots(3, 3, figsize=(20, 20))\n",
        "fig.tight_layout(pad=5.0)\n",
        "for col, ax in zip(colonnes_obj, axes.flatten()):\n",
        "    sns.countplot(x=col,data=data, hue='deposit', ax=ax)\n",
        "    ax.tick_params(axis='x', rotation=45)\n",
        "\n",
        "plt.show()"
      ],
      "id": "w5ozKxP5qCLu"
    },
    {
      "cell_type": "markdown",
      "metadata": {
        "id": "whQKFVbhqCLv"
      },
      "source": [
        "## Analyse du type de données numérique\n"
      ],
      "id": "whQKFVbhqCLv"
    },
    {
      "cell_type": "code",
      "execution_count": null,
      "metadata": {
        "id": "2MU9k2lGqCLv",
        "colab": {
          "base_uri": "https://localhost:8080/",
          "height": 867
        },
        "outputId": "5ee90aef-376d-4542-e1a1-d6c8b411fe81"
      },
      "outputs": [
        {
          "output_type": "display_data",
          "data": {
            "text/plain": [
              "<Figure size 1440x1440 with 8 Axes>"
            ],
            "image/png": "[encoded data removed]"
          },
          "metadata": {
            "needs_background": "light"
          }
        }
      ],
      "source": [
        "colonnes_int=data.select_dtypes('int').columns\n",
        "fig, axes = plt.subplots(4,2, figsize=(20, 20))\n",
        "fig.tight_layout(pad=5.0)\n",
        "for col, ax in zip(colonnes_int, axes.flatten()):\n",
        "    sns.kdeplot(x=col,data=data, hue='deposit', ax=ax, fill=True)\n",
        "    ax.tick_params(axis='x', rotation=45)"
      ],
      "id": "2MU9k2lGqCLv"
    },
    {
      "cell_type": "markdown",
      "metadata": {
        "id": "wJhdRo1YqCLv"
      },
      "source": [
        "## Corrélation entre les variables"
      ],
      "id": "wJhdRo1YqCLv"
    },
    {
      "cell_type": "code",
      "execution_count": null,
      "metadata": {
        "id": "0OrrmjI0qCLv",
        "colab": {
          "base_uri": "https://localhost:8080/",
          "height": 378
        },
        "outputId": "3fbea0e8-ce3f-4fe0-fbe3-dd3932ab94ae"
      },
      "outputs": [
        {
          "output_type": "display_data",
          "data": {
            "text/plain": [
              "<Figure size 1080x432 with 2 Axes>"
            ],
            "image/png": "[encoded data removed]"
          },
          "metadata": {
            "needs_background": "light"
          }
        }
      ],
      "source": [
        "plt.figure(figsize=(15,6))\n",
        "sns.heatmap(data.corr(),annot=True)\n",
        "plt.show()"
      ],
      "id": "0OrrmjI0qCLv"
    },
    {
      "cell_type": "markdown",
      "metadata": {
        "id": "XZjskei7qCLw"
      },
      "source": [
        "Il existe une corrélation modérée entre \"pdays\" et \"previous\", il est donc nécessaire de supprimer l'une d'entre elles. Pour décider quelle colonne doit etre supprimer, nous comparons leur Score d'Information Mutuelle.\n",
        "\n"
      ],
      "id": "XZjskei7qCLw"
    },
    {
      "cell_type": "code",
      "source": [
        "from sklearn.feature_selection import mutual_info_classif\n",
        "\n",
        "def make_mi_scores(X, y, discrete_features):\n",
        "    mi_scores = mutual_info_classif(X, y, discrete_features=discrete_features)\n",
        "    mi_scores = pd.Series(mi_scores, name=\"MI Scores\", index=X.columns)\n",
        "    mi_scores = mi_scores.sort_values(ascending=False)\n",
        "    return mi_scores\n",
        "\n",
        "mi_scores = make_mi_scores( data.loc[:, data.dtypes==int], data['deposit'], 'auto')\n",
        "mi_scores[::3]"
      ],
      "metadata": {
        "id": "AKxIocMEwKMN",
        "colab": {
          "base_uri": "https://localhost:8080/"
        },
        "outputId": "3091c3f9-ab90-4917-afe6-6b28872870ef"
      },
      "id": "AKxIocMEwKMN",
      "execution_count": null,
      "outputs": [
        {
          "output_type": "execute_result",
          "data": {
            "text/plain": [
              "duration    0.163607\n",
              "age         0.025022\n",
              "day         0.016236\n",
              "Name: MI Scores, dtype: float64"
            ]
          },
          "metadata": {},
          "execution_count": 8
        }
      ]
    },
    {
      "cell_type": "code",
      "source": [
        "def plot_mi_scores(scores):\n",
        "    scores = scores.sort_values(ascending=True)\n",
        "    width = np.arange(len(scores))\n",
        "    ticks = list(scores.index)\n",
        "    plt.barh(width, scores)\n",
        "    plt.yticks(width, ticks)\n",
        "    plt.title(\"Mutual Information Scores\")\n",
        "\n",
        "\n",
        "plt.figure(dpi=100, figsize=(8, 8))\n",
        "plot_mi_scores(mi_scores)\n"
      ],
      "metadata": {
        "id": "Db8L74emyCe9",
        "colab": {
          "base_uri": "https://localhost:8080/",
          "height": 687
        },
        "outputId": "40f4cda8-23ba-4bff-9059-08fa8b210afa"
      },
      "id": "Db8L74emyCe9",
      "execution_count": null,
      "outputs": [
        {
          "output_type": "display_data",
          "data": {
            "text/plain": [
              "<Figure size 800x800 with 1 Axes>"
            ],
            "image/png": "[encoded data removed]"
          },
          "metadata": {
            "needs_background": "light"
          }
        }
      ]
    },
    {
      "cell_type": "markdown",
      "source": [
        "Donc on supprime la colonne \"previous\".\n",
        "\n"
      ],
      "metadata": {
        "id": "y1fbm35I5a4u"
      },
      "id": "y1fbm35I5a4u"
    },
    {
      "cell_type": "code",
      "source": [
        "data.drop('previous',axis=1,inplace=True)"
      ],
      "metadata": {
        "id": "iofOUMnC5U68"
      },
      "id": "iofOUMnC5U68",
      "execution_count": null,
      "outputs": []
    },
    {
      "cell_type": "markdown",
      "source": [
        "## Vérification des valeurs aberrantes"
      ],
      "metadata": {
        "id": "O41OW3vekOi7"
      },
      "id": "O41OW3vekOi7"
    },
    {
      "cell_type": "code",
      "execution_count": null,
      "metadata": {
        "id": "_WSkaxn8qCLx",
        "colab": {
          "base_uri": "https://localhost:8080/",
          "height": 409
        },
        "outputId": "5f17d6cc-2a39-4d71-cade-3296b4d7c86f"
      },
      "outputs": [
        {
          "output_type": "display_data",
          "data": {
            "text/plain": [
              "<Figure size 360x360 with 1 Axes>"
            ],
            "image/png": "[encoded data removed]"
          },
          "metadata": {
            "needs_background": "light"
          }
        }
      ],
      "source": [
        "sns.catplot(data=data,kind='box')\n",
        "plt.xticks(rotation=90)\n",
        "plt.show()"
      ],
      "id": "_WSkaxn8qCLx"
    },
    {
      "cell_type": "code",
      "execution_count": null,
      "metadata": {
        "id": "RpYNDpEtqCLy",
        "colab": {
          "base_uri": "https://localhost:8080/",
          "height": 390
        },
        "outputId": "ec5c9496-b1a9-49bc-97c6-dc77d66c25ea"
      },
      "outputs": [
        {
          "output_type": "stream",
          "name": "stderr",
          "text": [
            "/usr/local/lib/python3.8/dist-packages/seaborn/distributions.py:2619: FutureWarning: `distplot` is a deprecated function and will be removed in a future version. Please adapt your code to use either `displot` (a figure-level function with similar flexibility) or `histplot` (an axes-level function for histograms).\n",
            "  warnings.warn(msg, FutureWarning)\n"
          ]
        },
        {
          "output_type": "display_data",
          "data": {
            "text/plain": [
              "<Figure size 504x360 with 1 Axes>"
            ],
            "image/png": "[encoded data removed]"
          },
          "metadata": {
            "needs_background": "light"
          }
        }
      ],
      "source": [
        "# on remarque qu'il existe des valeurs aberrantes dans la colonne \"balance\" \n",
        "plt.figure(figsize=(7,5))\n",
        "sns.distplot(data['balance'])\n",
        "plt.show()"
      ],
      "id": "RpYNDpEtqCLy"
    },
    {
      "cell_type": "markdown",
      "source": [
        "Les données supérieures à 20 000 peuvent être supprimées pour éviter le risque de valeurs aberrantes."
      ],
      "metadata": {
        "id": "g_y3IQBPkd4x"
      },
      "id": "g_y3IQBPkd4x"
    },
    {
      "cell_type": "code",
      "execution_count": null,
      "metadata": {
        "scrolled": true,
        "colab": {
          "base_uri": "https://localhost:8080/",
          "height": 280
        },
        "id": "4FsMDGrUqCLz",
        "outputId": "19056aac-5011-42ea-9dfc-29c84ad9e8e6"
      },
      "outputs": [
        {
          "output_type": "stream",
          "name": "stderr",
          "text": [
            "/usr/local/lib/python3.8/dist-packages/seaborn/distributions.py:2619: FutureWarning: `distplot` is a deprecated function and will be removed in a future version. Please adapt your code to use either `displot` (a figure-level function with similar flexibility) or `histplot` (an axes-level function for histograms).\n",
            "  warnings.warn(msg, FutureWarning)\n"
          ]
        },
        {
          "output_type": "display_data",
          "data": {
            "text/plain": [
              "<Figure size 360x216 with 1 Axes>"
            ],
            "image/png": "[encoded data removed]"
          },
          "metadata": {
            "needs_background": "light"
          }
        }
      ],
      "source": [
        "i=data['balance'][data['balance']>20000].index\n",
        "data.drop(i,inplace=True)\n",
        "plt.figure(figsize=(5,3))\n",
        "sns.distplot(data['balance'])\n",
        "plt.show()"
      ],
      "id": "4FsMDGrUqCLz"
    },
    {
      "cell_type": "markdown",
      "metadata": {
        "id": "clivlrywqCLz"
      },
      "source": [
        "Maintenant, la colonne \"balance\" semble être quelque peu normalement distribué."
      ],
      "id": "clivlrywqCLz"
    },
    {
      "cell_type": "markdown",
      "metadata": {
        "id": "SIyF923MqCLz"
      },
      "source": [
        "#Encodage de l'ensemble des données & Data Preprocessing"
      ],
      "id": "SIyF923MqCLz"
    },
    {
      "cell_type": "markdown",
      "metadata": {
        "id": "wJz7i8rEqCL0"
      },
      "source": [
        "## Encodage de la colonne \"deposit\""
      ],
      "id": "wJz7i8rEqCL0"
    },
    {
      "cell_type": "code",
      "execution_count": null,
      "metadata": {
        "id": "PFCWMwTxqCL0"
      },
      "outputs": [],
      "source": [
        "data['deposit'] = data['deposit'].map({'no': 0, 'yes': 1})"
      ],
      "id": "PFCWMwTxqCL0"
    },
    {
      "cell_type": "markdown",
      "metadata": {
        "id": "LKuqtlUxqCL0"
      },
      "source": [
        "## Encodage de la colonne \"month\""
      ],
      "id": "LKuqtlUxqCL0"
    },
    {
      "cell_type": "code",
      "execution_count": null,
      "metadata": {
        "id": "CsxLP6wpqCL0"
      },
      "outputs": [],
      "source": [
        "dict_mois = {'jan' : 1, 'feb' : 2, 'mar' : 3, 'apr' : 4, 'may' : 5, 'jun' : 6,\n",
        "             'jul' : 7, 'aug' : 8, 'sep' : 9, 'oct' : 10, 'nov' : 11, 'dec' : 12}\n",
        "data['month'] = data['month'].map(dict_mois)"
      ],
      "id": "CsxLP6wpqCL0"
    },
    {
      "cell_type": "markdown",
      "metadata": {
        "id": "kd7Yu0tjqCL0"
      },
      "source": [
        "## Encodage des colonnes \"default\",\"housing\" et \"loan\""
      ],
      "id": "kd7Yu0tjqCL0"
    },
    {
      "cell_type": "code",
      "execution_count": null,
      "metadata": {
        "id": "lEil6exIqCL1"
      },
      "outputs": [],
      "source": [
        "#default :\n",
        "data.default.replace({'no' : 0, 'yes' : 1}, inplace = True)\n",
        "#housing :\n",
        "data.housing.replace({'no' : 0, 'yes' : 1}, inplace = True)\n",
        "#loan :\n",
        "data.loan.replace({'no' : 0, 'yes' : 1}, inplace = True)"
      ],
      "id": "lEil6exIqCL1"
    },
    {
      "cell_type": "markdown",
      "metadata": {
        "id": "pzrUZP-pqCL1"
      },
      "source": [
        "## Encodage de la colonne \"marital\""
      ],
      "id": "pzrUZP-pqCL1"
    },
    {
      "cell_type": "code",
      "execution_count": null,
      "metadata": {
        "id": "_9RYQr6FqCL1"
      },
      "outputs": [],
      "source": [
        "marital_dummies = pd.get_dummies(data['marital'], prefix = 'marital')\n",
        "marital_dummies.drop('marital_divorced', axis=1, inplace=True)\n",
        "data = pd.concat([data, marital_dummies], axis=1)"
      ],
      "id": "_9RYQr6FqCL1"
    },
    {
      "cell_type": "markdown",
      "metadata": {
        "id": "sunYQSfiqCL1"
      },
      "source": [
        "## Encodage de la colonne \"job\""
      ],
      "id": "sunYQSfiqCL1"
    },
    {
      "cell_type": "code",
      "execution_count": null,
      "metadata": {
        "scrolled": true,
        "id": "6heymlSNqCL2"
      },
      "outputs": [],
      "source": [
        "job_dummies = pd.get_dummies(data['job'], prefix = 'job')\n",
        "job_dummies.drop('job_unknown', axis=1, inplace=True)\n",
        "data= pd.concat([data, job_dummies], axis=1)"
      ],
      "id": "6heymlSNqCL2"
    },
    {
      "cell_type": "markdown",
      "metadata": {
        "id": "Zd22jVycqCL2"
      },
      "source": [
        "## Encodage de la colonne \"education\""
      ],
      "id": "Zd22jVycqCL2"
    },
    {
      "cell_type": "code",
      "execution_count": null,
      "metadata": {
        "scrolled": true,
        "id": "B_YghRR0qCL2"
      },
      "outputs": [],
      "source": [
        "education_dummies = pd.get_dummies(data['education'], prefix = 'education')\n",
        "education_dummies.drop('education_unknown', axis=1, inplace=True)\n",
        "data = pd.concat([data, education_dummies], axis=1)"
      ],
      "id": "B_YghRR0qCL2"
    },
    {
      "cell_type": "markdown",
      "metadata": {
        "id": "jsEaAPn0qCL2"
      },
      "source": [
        "## Encodage de la colonne \"contact\""
      ],
      "id": "jsEaAPn0qCL2"
    },
    {
      "cell_type": "code",
      "execution_count": null,
      "metadata": {
        "scrolled": true,
        "id": "lSYt4FUcqCL2"
      },
      "outputs": [],
      "source": [
        "contact_dummies = pd.get_dummies(data['contact'], prefix = 'contact')\n",
        "contact_dummies.drop('contact_unknown', axis=1, inplace=True)\n",
        "data = pd.concat([data, contact_dummies], axis=1)"
      ],
      "id": "lSYt4FUcqCL2"
    },
    {
      "cell_type": "markdown",
      "metadata": {
        "id": "xHjyB7BPqCL2"
      },
      "source": [
        "## Encodage de la colonne \"poutcome\""
      ],
      "id": "xHjyB7BPqCL2"
    },
    {
      "cell_type": "code",
      "execution_count": null,
      "metadata": {
        "scrolled": true,
        "id": "GU30BKalqCL2"
      },
      "outputs": [],
      "source": [
        "poutcome_dummies = pd.get_dummies(data['poutcome'], prefix = 'poutcome')\n",
        "poutcome_dummies.drop('poutcome_unknown', axis=1, inplace=True)\n",
        "data = pd.concat([data, poutcome_dummies], axis=1)"
      ],
      "id": "GU30BKalqCL2"
    },
    {
      "cell_type": "markdown",
      "metadata": {
        "id": "hRzM8eNxqCL3"
      },
      "source": [
        "## Encodage de la colonne \"pdays\""
      ],
      "id": "hRzM8eNxqCL3"
    },
    {
      "cell_type": "markdown",
      "metadata": {
        "id": "eqJsrUnmqCL3"
      },
      "source": [
        "Si la valeur de 'pdays' est 999 alors le client n'a pas été contacté auparavant et si la valeur de 'pdays' est '-1', si c'est le cas, nous l'associerons à une valeur de 0."
      ],
      "id": "eqJsrUnmqCL3"
    },
    {
      "cell_type": "code",
      "execution_count": null,
      "metadata": {
        "id": "Pg2TKR_1qCL3"
      },
      "outputs": [],
      "source": [
        "data['pdays'] = data['pdays'].apply(lambda row: 0 if row == -1 else 1)"
      ],
      "id": "Pg2TKR_1qCL3"
    },
    {
      "cell_type": "markdown",
      "metadata": {
        "id": "IvQkTF54qCL3"
      },
      "source": [
        "## Supprimer les colonnes \"marital\",\"job\",\"education\",\"contact\" et \"poutcome\""
      ],
      "id": "IvQkTF54qCL3"
    },
    {
      "cell_type": "code",
      "execution_count": null,
      "metadata": {
        "id": "5OnOpZZMqCL3"
      },
      "outputs": [],
      "source": [
        "data.drop(['job', 'education', 'marital', 'contact', 'poutcome'], axis=1,inplace=True)"
      ],
      "id": "5OnOpZZMqCL3"
    },
    {
      "cell_type": "markdown",
      "metadata": {
        "id": "GouIsNveqCL3"
      },
      "source": [
        "## Vérifier le type des données aprés l'encodage"
      ],
      "id": "GouIsNveqCL3"
    },
    {
      "cell_type": "code",
      "execution_count": null,
      "metadata": {
        "colab": {
          "base_uri": "https://localhost:8080/"
        },
        "id": "xvYODMgGqCL3",
        "outputId": "5d4c2d2b-6c75-4960-b99a-c5b0074b712a"
      },
      "outputs": [
        {
          "output_type": "execute_result",
          "data": {
            "text/plain": [
              "age                    int64\n",
              "default                int64\n",
              "balance                int64\n",
              "housing                int64\n",
              "loan                   int64\n",
              "day                    int64\n",
              "month                  int64\n",
              "duration               int64\n",
              "campaign               int64\n",
              "pdays                  int64\n",
              "previous               int64\n",
              "deposit                int64\n",
              "marital_married        uint8\n",
              "marital_single         uint8\n",
              "job_admin.             uint8\n",
              "job_blue-collar        uint8\n",
              "job_entrepreneur       uint8\n",
              "job_housemaid          uint8\n",
              "job_management         uint8\n",
              "job_retired            uint8\n",
              "job_self-employed      uint8\n",
              "job_services           uint8\n",
              "job_student            uint8\n",
              "job_technician         uint8\n",
              "job_unemployed         uint8\n",
              "education_primary      uint8\n",
              "education_secondary    uint8\n",
              "education_tertiary     uint8\n",
              "contact_cellular       uint8\n",
              "contact_telephone      uint8\n",
              "poutcome_failure       uint8\n",
              "poutcome_other         uint8\n",
              "poutcome_success       uint8\n",
              "dtype: object"
            ]
          },
          "metadata": {},
          "execution_count": 21
        }
      ],
      "source": [
        "data.dtypes"
      ],
      "id": "xvYODMgGqCL3"
    },
    {
      "cell_type": "code",
      "execution_count": null,
      "metadata": {
        "id": "tHsN2rF6qCL4",
        "colab": {
          "base_uri": "https://localhost:8080/",
          "height": 488
        },
        "outputId": "258cdb78-25d8-42c2-c90e-314e17608782"
      },
      "outputs": [
        {
          "output_type": "execute_result",
          "data": {
            "text/plain": [
              "       age  default  balance  housing  loan  day  month  duration  campaign  \\\n",
              "0       59        0     2343        1     0    5      5      1042         1   \n",
              "1       56        0       45        0     0    5      5      1467         1   \n",
              "2       41        0     1270        1     0    5      5      1389         1   \n",
              "3       55        0     2476        1     0    5      5       579         1   \n",
              "4       54        0      184        0     0    5      5       673         2   \n",
              "...    ...      ...      ...      ...   ...  ...    ...       ...       ...   \n",
              "11157   33        0        1        1     0   20      4       257         1   \n",
              "11158   39        0      733        0     0   16      6        83         4   \n",
              "11159   32        0       29        0     0   19      8       156         2   \n",
              "11160   43        0        0        0     1    8      5         9         2   \n",
              "11161   34        0        0        0     0    9      7       628         1   \n",
              "\n",
              "       pdays  ...  job_technician  job_unemployed  education_primary  \\\n",
              "0          0  ...               0               0                  0   \n",
              "1          0  ...               0               0                  0   \n",
              "2          0  ...               1               0                  0   \n",
              "3          0  ...               0               0                  0   \n",
              "4          0  ...               0               0                  0   \n",
              "...      ...  ...             ...             ...                ...   \n",
              "11157      0  ...               0               0                  1   \n",
              "11158      0  ...               0               0                  0   \n",
              "11159      0  ...               1               0                  0   \n",
              "11160      1  ...               1               0                  0   \n",
              "11161      0  ...               1               0                  0   \n",
              "\n",
              "       education_secondary  education_tertiary  contact_cellular  \\\n",
              "0                        1                   0                 0   \n",
              "1                        1                   0                 0   \n",
              "2                        1                   0                 0   \n",
              "3                        1                   0                 0   \n",
              "4                        0                   1                 0   \n",
              "...                    ...                 ...               ...   \n",
              "11157                    0                   0                 1   \n",
              "11158                    1                   0                 0   \n",
              "11159                    1                   0                 1   \n",
              "11160                    1                   0                 1   \n",
              "11161                    1                   0                 1   \n",
              "\n",
              "       contact_telephone  poutcome_failure  poutcome_other  poutcome_success  \n",
              "0                      0                 0               0                 0  \n",
              "1                      0                 0               0                 0  \n",
              "2                      0                 0               0                 0  \n",
              "3                      0                 0               0                 0  \n",
              "4                      0                 0               0                 0  \n",
              "...                  ...               ...             ...               ...  \n",
              "11157                  0                 0               0                 0  \n",
              "11158                  0                 0               0                 0  \n",
              "11159                  0                 0               0                 0  \n",
              "11160                  0                 1               0                 0  \n",
              "11161                  0                 0               0                 0  \n",
              "\n",
              "[11105 rows x 33 columns]"
            ],
            "text/html": [
              "\n",
              "  <div id=\"df-7642dc93-0105-483b-823c-1c98925f8926\">\n",
              "    <div class=\"colab-df-container\">\n",
              "      <div>\n",
              "<style scoped>\n",
              "    .dataframe tbody tr th:only-of-type {\n",
              "        vertical-align: middle;\n",
              "    }\n",
              "\n",
              "    .dataframe tbody tr th {\n",
              "        vertical-align: top;\n",
              "    }\n",
              "\n",
              "    .dataframe thead th {\n",
              "        text-align: right;\n",
              "    }\n",
              "</style>\n",
              "<table border=\"1\" class=\"dataframe\">\n",
              "  <thead>\n",
              "    <tr style=\"text-align: right;\">\n",
              "      <th></th>\n",
              "      <th>age</th>\n",
              "      <th>default</th>\n",
              "      <th>balance</th>\n",
              "      <th>housing</th>\n",
              "      <th>loan</th>\n",
              "      <th>day</th>\n",
              "      <th>month</th>\n",
              "      <th>duration</th>\n",
              "      <th>campaign</th>\n",
              "      <th>pdays</th>\n",
              "      <th>...</th>\n",
              "      <th>job_technician</th>\n",
              "      <th>job_unemployed</th>\n",
              "      <th>education_primary</th>\n",
              "      <th>education_secondary</th>\n",
              "      <th>education_tertiary</th>\n",
              "      <th>contact_cellular</th>\n",
              "      <th>contact_telephone</th>\n",
              "      <th>poutcome_failure</th>\n",
              "      <th>poutcome_other</th>\n",
              "      <th>poutcome_success</th>\n",
              "    </tr>\n",
              "  </thead>\n",
              "  <tbody>\n",
              "    <tr>\n",
              "      <th>0</th>\n",
              "      <td>59</td>\n",
              "      <td>0</td>\n",
              "      <td>2343</td>\n",
              "      <td>1</td>\n",
              "      <td>0</td>\n",
              "      <td>5</td>\n",
              "      <td>5</td>\n",
              "      <td>1042</td>\n",
              "      <td>1</td>\n",
              "      <td>0</td>\n",
              "      <td>...</td>\n",
              "      <td>0</td>\n",
              "      <td>0</td>\n",
              "      <td>0</td>\n",
              "      <td>1</td>\n",
              "      <td>0</td>\n",
              "      <td>0</td>\n",
              "      <td>0</td>\n",
              "      <td>0</td>\n",
              "      <td>0</td>\n",
              "      <td>0</td>\n",
              "    </tr>\n",
              "    <tr>\n",
              "      <th>1</th>\n",
              "      <td>56</td>\n",
              "      <td>0</td>\n",
              "      <td>45</td>\n",
              "      <td>0</td>\n",
              "      <td>0</td>\n",
              "      <td>5</td>\n",
              "      <td>5</td>\n",
              "      <td>1467</td>\n",
              "      <td>1</td>\n",
              "      <td>0</td>\n",
              "      <td>...</td>\n",
              "      <td>0</td>\n",
              "      <td>0</td>\n",
              "      <td>0</td>\n",
              "      <td>1</td>\n",
              "      <td>0</td>\n",
              "      <td>0</td>\n",
              "      <td>0</td>\n",
              "      <td>0</td>\n",
              "      <td>0</td>\n",
              "      <td>0</td>\n",
              "    </tr>\n",
              "    <tr>\n",
              "      <th>2</th>\n",
              "      <td>41</td>\n",
              "      <td>0</td>\n",
              "      <td>1270</td>\n",
              "      <td>1</td>\n",
              "      <td>0</td>\n",
              "      <td>5</td>\n",
              "      <td>5</td>\n",
              "      <td>1389</td>\n",
              "      <td>1</td>\n",
              "      <td>0</td>\n",
              "      <td>...</td>\n",
              "      <td>1</td>\n",
              "      <td>0</td>\n",
              "      <td>0</td>\n",
              "      <td>1</td>\n",
              "      <td>0</td>\n",
              "      <td>0</td>\n",
              "      <td>0</td>\n",
              "      <td>0</td>\n",
              "      <td>0</td>\n",
              "      <td>0</td>\n",
              "    </tr>\n",
              "    <tr>\n",
              "      <th>3</th>\n",
              "      <td>55</td>\n",
              "      <td>0</td>\n",
              "      <td>2476</td>\n",
              "      <td>1</td>\n",
              "      <td>0</td>\n",
              "      <td>5</td>\n",
              "      <td>5</td>\n",
              "      <td>579</td>\n",
              "      <td>1</td>\n",
              "      <td>0</td>\n",
              "      <td>...</td>\n",
              "      <td>0</td>\n",
              "      <td>0</td>\n",
              "      <td>0</td>\n",
              "      <td>1</td>\n",
              "      <td>0</td>\n",
              "      <td>0</td>\n",
              "      <td>0</td>\n",
              "      <td>0</td>\n",
              "      <td>0</td>\n",
              "      <td>0</td>\n",
              "    </tr>\n",
              "    <tr>\n",
              "      <th>4</th>\n",
              "      <td>54</td>\n",
              "      <td>0</td>\n",
              "      <td>184</td>\n",
              "      <td>0</td>\n",
              "      <td>0</td>\n",
              "      <td>5</td>\n",
              "      <td>5</td>\n",
              "      <td>673</td>\n",
              "      <td>2</td>\n",
              "      <td>0</td>\n",
              "      <td>...</td>\n",
              "      <td>0</td>\n",
              "      <td>0</td>\n",
              "      <td>0</td>\n",
              "      <td>0</td>\n",
              "      <td>1</td>\n",
              "      <td>0</td>\n",
              "      <td>0</td>\n",
              "      <td>0</td>\n",
              "      <td>0</td>\n",
              "      <td>0</td>\n",
              "    </tr>\n",
              "    <tr>\n",
              "      <th>...</th>\n",
              "      <td>...</td>\n",
              "      <td>...</td>\n",
              "      <td>...</td>\n",
              "      <td>...</td>\n",
              "      <td>...</td>\n",
              "      <td>...</td>\n",
              "      <td>...</td>\n",
              "      <td>...</td>\n",
              "      <td>...</td>\n",
              "      <td>...</td>\n",
              "      <td>...</td>\n",
              "      <td>...</td>\n",
              "      <td>...</td>\n",
              "      <td>...</td>\n",
              "      <td>...</td>\n",
              "      <td>...</td>\n",
              "      <td>...</td>\n",
              "      <td>...</td>\n",
              "      <td>...</td>\n",
              "      <td>...</td>\n",
              "      <td>...</td>\n",
              "    </tr>\n",
              "    <tr>\n",
              "      <th>11157</th>\n",
              "      <td>33</td>\n",
              "      <td>0</td>\n",
              "      <td>1</td>\n",
              "      <td>1</td>\n",
              "      <td>0</td>\n",
              "      <td>20</td>\n",
              "      <td>4</td>\n",
              "      <td>257</td>\n",
              "      <td>1</td>\n",
              "      <td>0</td>\n",
              "      <td>...</td>\n",
              "      <td>0</td>\n",
              "      <td>0</td>\n",
              "      <td>1</td>\n",
              "      <td>0</td>\n",
              "      <td>0</td>\n",
              "      <td>1</td>\n",
              "      <td>0</td>\n",
              "      <td>0</td>\n",
              "      <td>0</td>\n",
              "      <td>0</td>\n",
              "    </tr>\n",
              "    <tr>\n",
              "      <th>11158</th>\n",
              "      <td>39</td>\n",
              "      <td>0</td>\n",
              "      <td>733</td>\n",
              "      <td>0</td>\n",
              "      <td>0</td>\n",
              "      <td>16</td>\n",
              "      <td>6</td>\n",
              "      <td>83</td>\n",
              "      <td>4</td>\n",
              "      <td>0</td>\n",
              "      <td>...</td>\n",
              "      <td>0</td>\n",
              "      <td>0</td>\n",
              "      <td>0</td>\n",
              "      <td>1</td>\n",
              "      <td>0</td>\n",
              "      <td>0</td>\n",
              "      <td>0</td>\n",
              "      <td>0</td>\n",
              "      <td>0</td>\n",
              "      <td>0</td>\n",
              "    </tr>\n",
              "    <tr>\n",
              "      <th>11159</th>\n",
              "      <td>32</td>\n",
              "      <td>0</td>\n",
              "      <td>29</td>\n",
              "      <td>0</td>\n",
              "      <td>0</td>\n",
              "      <td>19</td>\n",
              "      <td>8</td>\n",
              "      <td>156</td>\n",
              "      <td>2</td>\n",
              "      <td>0</td>\n",
              "      <td>...</td>\n",
              "      <td>1</td>\n",
              "      <td>0</td>\n",
              "      <td>0</td>\n",
              "      <td>1</td>\n",
              "      <td>0</td>\n",
              "      <td>1</td>\n",
              "      <td>0</td>\n",
              "      <td>0</td>\n",
              "      <td>0</td>\n",
              "      <td>0</td>\n",
              "    </tr>\n",
              "    <tr>\n",
              "      <th>11160</th>\n",
              "      <td>43</td>\n",
              "      <td>0</td>\n",
              "      <td>0</td>\n",
              "      <td>0</td>\n",
              "      <td>1</td>\n",
              "      <td>8</td>\n",
              "      <td>5</td>\n",
              "      <td>9</td>\n",
              "      <td>2</td>\n",
              "      <td>1</td>\n",
              "      <td>...</td>\n",
              "      <td>1</td>\n",
              "      <td>0</td>\n",
              "      <td>0</td>\n",
              "      <td>1</td>\n",
              "      <td>0</td>\n",
              "      <td>1</td>\n",
              "      <td>0</td>\n",
              "      <td>1</td>\n",
              "      <td>0</td>\n",
              "      <td>0</td>\n",
              "    </tr>\n",
              "    <tr>\n",
              "      <th>11161</th>\n",
              "      <td>34</td>\n",
              "      <td>0</td>\n",
              "      <td>0</td>\n",
              "      <td>0</td>\n",
              "      <td>0</td>\n",
              "      <td>9</td>\n",
              "      <td>7</td>\n",
              "      <td>628</td>\n",
              "      <td>1</td>\n",
              "      <td>0</td>\n",
              "      <td>...</td>\n",
              "      <td>1</td>\n",
              "      <td>0</td>\n",
              "      <td>0</td>\n",
              "      <td>1</td>\n",
              "      <td>0</td>\n",
              "      <td>1</td>\n",
              "      <td>0</td>\n",
              "      <td>0</td>\n",
              "      <td>0</td>\n",
              "      <td>0</td>\n",
              "    </tr>\n",
              "  </tbody>\n",
              "</table>\n",
              "<p>11105 rows × 33 columns</p>\n",
              "</div>\n",
              "      <button class=\"colab-df-convert\" onclick=\"convertToInteractive('df-7642dc93-0105-483b-823c-1c98925f8926')\"\n",
              "              title=\"Convert this dataframe to an interactive table.\"\n",
              "              style=\"display:none;\">\n",
              "        \n",
              "  <svg xmlns=\"http://www.w3.org/2000/svg\" height=\"24px\"viewBox=\"0 0 24 24\"\n",
              "       width=\"24px\">\n",
              "    <path d=\"M0 0h24v24H0V0z\" fill=\"none\"/>\n",
              "    <path d=\"M18.56 5.44l.94 2.06.94-2.06 2.06-.94-2.06-.94-.94-2.06-.94 2.06-2.06.94zm-11 1L8.5 8.5l.94-2.06 2.06-.94-2.06-.94L8.5 2.5l-.94 2.06-2.06.94zm10 10l.94 2.06.94-2.06 2.06-.94-2.06-.94-.94-2.06-.94 2.06-2.06.94z\"/><path d=\"M17.41 7.96l-1.37-1.37c-.4-.4-.92-.59-1.43-.59-.52 0-1.04.2-1.43.59L10.3 9.45l-7.72 7.72c-.78.78-.78 2.05 0 2.83L4 21.41c.39.39.9.59 1.41.59.51 0 1.02-.2 1.41-.59l7.78-7.78 2.81-2.81c.8-.78.8-2.07 0-2.86zM5.41 20L4 18.59l7.72-7.72 1.47 1.35L5.41 20z\"/>\n",
              "  </svg>\n",
              "      </button>\n",
              "      \n",
              "  <style>\n",
              "    .colab-df-container {\n",
              "      display:flex;\n",
              "      flex-wrap:wrap;\n",
              "      gap: 12px;\n",
              "    }\n",
              "\n",
              "    .colab-df-convert {\n",
              "      background-color: #E8F0FE;\n",
              "      border: none;\n",
              "      border-radius: 50%;\n",
              "      cursor: pointer;\n",
              "      display: none;\n",
              "      fill: #1967D2;\n",
              "      height: 32px;\n",
              "      padding: 0 0 0 0;\n",
              "      width: 32px;\n",
              "    }\n",
              "\n",
              "    .colab-df-convert:hover {\n",
              "      background-color: #E2EBFA;\n",
              "      box-shadow: 0px 1px 2px rgba(60, 64, 67, 0.3), 0px 1px 3px 1px rgba(60, 64, 67, 0.15);\n",
              "      fill: #174EA6;\n",
              "    }\n",
              "\n",
              "    [theme=dark] .colab-df-convert {\n",
              "      background-color: #3B4455;\n",
              "      fill: #D2E3FC;\n",
              "    }\n",
              "\n",
              "    [theme=dark] .colab-df-convert:hover {\n",
              "      background-color: #434B5C;\n",
              "      box-shadow: 0px 1px 3px 1px rgba(0, 0, 0, 0.15);\n",
              "      filter: drop-shadow(0px 1px 2px rgba(0, 0, 0, 0.3));\n",
              "      fill: #FFFFFF;\n",
              "    }\n",
              "  </style>\n",
              "\n",
              "      <script>\n",
              "        const buttonEl =\n",
              "          document.querySelector('#df-7642dc93-0105-483b-823c-1c98925f8926 button.colab-df-convert');\n",
              "        buttonEl.style.display =\n",
              "          google.colab.kernel.accessAllowed ? 'block' : 'none';\n",
              "\n",
              "        async function convertToInteractive(key) {\n",
              "          const element = document.querySelector('#df-7642dc93-0105-483b-823c-1c98925f8926');\n",
              "          const dataTable =\n",
              "            await google.colab.kernel.invokeFunction('convertToInteractive',\n",
              "                                                     [key], {});\n",
              "          if (!dataTable) return;\n",
              "\n",
              "          const docLinkHtml = 'Like what you see? Visit the ' +\n",
              "            '<a target=\"_blank\" href=https://colab.research.google.com/notebooks/data_table.ipynb>data table notebook</a>'\n",
              "            + ' to learn more about interactive tables.';\n",
              "          element.innerHTML = '';\n",
              "          dataTable['output_type'] = 'display_data';\n",
              "          await google.colab.output.renderOutput(dataTable, element);\n",
              "          const docLink = document.createElement('div');\n",
              "          docLink.innerHTML = docLinkHtml;\n",
              "          element.appendChild(docLink);\n",
              "        }\n",
              "      </script>\n",
              "    </div>\n",
              "  </div>\n",
              "  "
            ]
          },
          "metadata": {},
          "execution_count": 22
        }
      ],
      "source": [
        "data"
      ],
      "id": "tHsN2rF6qCL4"
    },
    {
      "cell_type": "markdown",
      "metadata": {
        "id": "ArbkkWL9qCL4"
      },
      "source": [
        "On remarque toutes les données sont bien encodés."
      ],
      "id": "ArbkkWL9qCL4"
    },
    {
      "cell_type": "markdown",
      "source": [
        "##Enregistrement de notre dataset après l'encodage "
      ],
      "metadata": {
        "id": "JISkHbxw6a7R"
      },
      "id": "JISkHbxw6a7R"
    },
    {
      "cell_type": "code",
      "execution_count": null,
      "metadata": {
        "id": "KKuZ9_KTqCL4"
      },
      "outputs": [],
      "source": [
        "data.to_csv('datacode.csv', index=False)"
      ],
      "id": "KKuZ9_KTqCL4"
    },
    {
      "cell_type": "markdown",
      "source": [
        "# Classification  supervisée (Classification )"
      ],
      "metadata": {
        "id": "zb8uieE1rmJA"
      },
      "id": "zb8uieE1rmJA"
    },
    {
      "cell_type": "markdown",
      "metadata": {
        "id": "smTnltFTqCL5"
      },
      "source": [
        "### Train and Test dataset"
      ],
      "id": "smTnltFTqCL5"
    },
    {
      "cell_type": "code",
      "execution_count": null,
      "metadata": {
        "id": "Nvdi2ws2qCL4"
      },
      "outputs": [],
      "source": [
        "X = data.drop('deposit', axis=1)\n",
        "Y = data['deposit']"
      ],
      "id": "Nvdi2ws2qCL4"
    },
    {
      "cell_type": "code",
      "execution_count": null,
      "metadata": {
        "id": "LdShufwjqCL5"
      },
      "outputs": [],
      "source": [
        "from sklearn.model_selection import train_test_split\n",
        "X_train, X_test, y_train, y_test = train_test_split(X, Y, test_size = 0.2, random_state = 32)"
      ],
      "id": "LdShufwjqCL5"
    },
    {
      "cell_type": "code",
      "execution_count": null,
      "metadata": {
        "id": "8oqoxI_sqCL5",
        "colab": {
          "base_uri": "https://localhost:8080/"
        },
        "outputId": "11f9ea51-9399-4ef9-ce59-e61dba709a00"
      },
      "outputs": [
        {
          "output_type": "execute_result",
          "data": {
            "text/plain": [
              "(8884, 32)"
            ]
          },
          "metadata": {},
          "execution_count": 25
        }
      ],
      "source": [
        "X_train.shape"
      ],
      "id": "8oqoxI_sqCL5"
    },
    {
      "cell_type": "code",
      "execution_count": null,
      "metadata": {
        "id": "lKzVJ2vKqCL5",
        "colab": {
          "base_uri": "https://localhost:8080/"
        },
        "outputId": "2e0c0a54-c855-4d52-df58-6551f6726077"
      },
      "outputs": [
        {
          "output_type": "execute_result",
          "data": {
            "text/plain": [
              "(2221, 32)"
            ]
          },
          "metadata": {},
          "execution_count": 26
        }
      ],
      "source": [
        "X_test.shape"
      ],
      "id": "lKzVJ2vKqCL5"
    },
    {
      "cell_type": "code",
      "execution_count": null,
      "metadata": {
        "id": "jcFAzXMGqCL5",
        "colab": {
          "base_uri": "https://localhost:8080/"
        },
        "outputId": "62ab7192-4b9e-40c2-e03b-ee65e1c77bff"
      },
      "outputs": [
        {
          "output_type": "execute_result",
          "data": {
            "text/plain": [
              "(8884,)"
            ]
          },
          "metadata": {},
          "execution_count": 27
        }
      ],
      "source": [
        "y_train.shape"
      ],
      "id": "jcFAzXMGqCL5"
    },
    {
      "cell_type": "code",
      "execution_count": null,
      "metadata": {
        "id": "t5gbf9vEqCL5",
        "colab": {
          "base_uri": "https://localhost:8080/"
        },
        "outputId": "e798f432-34ae-4992-ecaf-f9e5054b2309"
      },
      "outputs": [
        {
          "output_type": "execute_result",
          "data": {
            "text/plain": [
              "(2221,)"
            ]
          },
          "metadata": {},
          "execution_count": 28
        }
      ],
      "source": [
        "y_test.shape"
      ],
      "id": "t5gbf9vEqCL5"
    },
    {
      "cell_type": "markdown",
      "metadata": {
        "id": "glybGGv6qCL6"
      },
      "source": [
        "### Features Scaling"
      ],
      "id": "glybGGv6qCL6"
    },
    {
      "cell_type": "markdown",
      "metadata": {
        "id": "HBmUeZmXqCL6"
      },
      "source": [
        "Nous allons normaliser les variables indépendantes présentes dans l'ensemble de données dans une plage fixe."
      ],
      "id": "HBmUeZmXqCL6"
    },
    {
      "cell_type": "code",
      "execution_count": null,
      "metadata": {
        "id": "1FwiBRT2qCL6"
      },
      "outputs": [],
      "source": [
        "from sklearn.preprocessing import StandardScaler\n",
        "ss = StandardScaler()\n",
        "X_train_s = ss.fit_transform(X_train)\n",
        "X_test_s = ss.transform(X_test)"
      ],
      "id": "1FwiBRT2qCL6"
    },
    {
      "cell_type": "markdown",
      "metadata": {
        "id": "j7UVz0iTqCL6"
      },
      "source": [
        "## Model Training "
      ],
      "id": "j7UVz0iTqCL6"
    },
    {
      "cell_type": "markdown",
      "metadata": {
        "id": "7f5TExAgqCL6"
      },
      "source": [
        "### Importer les librairies"
      ],
      "id": "7f5TExAgqCL6"
    },
    {
      "cell_type": "code",
      "execution_count": null,
      "metadata": {
        "id": "mEpXaVToqCL6"
      },
      "outputs": [],
      "source": [
        "from sklearn.neighbors import KNeighborsClassifier #KNN\n",
        "from sklearn.tree import DecisionTreeClassifier #Decision Tree\n",
        "from sklearn.naive_bayes import GaussianNB #Naive bayes\n",
        "from sklearn.neural_network import MLPClassifier #Multilayer perceptron\n",
        "from sklearn.model_selection import train_test_split #training and testing data split\n",
        "from sklearn import metrics #accuracy measure\n",
        "from sklearn.metrics import confusion_matrix #for confusion matrix\n",
        "from sklearn.metrics import plot_confusion_matrix\n",
        "from sklearn.metrics import accuracy_score, precision_score, recall_score, f1_score\n",
        "from sklearn.metrics import classification_report\n",
        "from sklearn import svm"
      ],
      "id": "mEpXaVToqCL6"
    },
    {
      "cell_type": "markdown",
      "source": [
        "# Classification Supervisée"
      ],
      "metadata": {
        "id": "0lx2tlAc8Deh"
      },
      "id": "0lx2tlAc8Deh"
    },
    {
      "cell_type": "markdown",
      "metadata": {
        "id": "2UK0M_sCqCL6"
      },
      "source": [
        "### KNN"
      ],
      "id": "2UK0M_sCqCL6"
    },
    {
      "cell_type": "code",
      "execution_count": null,
      "metadata": {
        "id": "BCRLLQ--qCL7",
        "colab": {
          "base_uri": "https://localhost:8080/"
        },
        "outputId": "3854e2e1-c00b-4938-ebba-1e22a42103af"
      },
      "outputs": [
        {
          "output_type": "stream",
          "name": "stdout",
          "text": [
            "Pour K=2 le score de précision des tests est 71.18%\n",
            "Pour K=2 le score de précision du train est 84.76%\n",
            "\n",
            "Pour K=3 le score de précision des tests est 75.78%\n",
            "Pour K=3 le score de précision du train est 86.28%\n",
            "\n",
            "Pour K=4 le score de précision des tests est 74.20%\n",
            "Pour K=4 le score de précision du train est 81.35%\n",
            "\n",
            "Pour K=5 le score de précision des tests est 76.86%\n",
            "Pour K=5 le score de précision du train est 82.63%\n",
            "\n",
            "Pour K=6 le score de précision des tests est 75.60%\n",
            "Pour K=6 le score de précision du train est 80.22%\n",
            "\n",
            "Pour K=7 le score de précision des tests est 77.58%\n",
            "Pour K=7 le score de précision du train est 81.26%\n",
            "\n",
            "Pour K=8 le score de précision des tests est 76.18%\n",
            "Pour K=8 le score de précision du train est 79.66%\n",
            "\n",
            "Pour K=9 le score de précision des tests est 77.22%\n",
            "Pour K=9 le score de précision du train est 79.39%\n",
            "\n",
            "Pour K=10 le score de précision des tests est 75.60%\n",
            "Pour K=10 le score de précision du train est 78.05%\n",
            "\n",
            "Pour K=11 le score de précision des tests est 76.27%\n",
            "Pour K=11 le score de précision du train est 78.65%\n",
            "\n",
            "Pour K=12 le score de précision des tests est 75.46%\n",
            "Pour K=12 le score de précision du train est 77.74%\n",
            "\n",
            "Pour K=13 le score de précision des tests est 76.32%\n",
            "Pour K=13 le score de précision du train est 78.48%\n",
            "\n",
            "Pour K=14 le score de précision des tests est 75.46%\n",
            "Pour K=14 le score de précision du train est 77.49%\n",
            "\n",
            "Pour K=15 le score de précision des tests est 76.00%\n",
            "Pour K=15 le score de précision du train est 78.04%\n",
            "\n",
            "Pour K=16 le score de précision des tests est 75.51%\n",
            "Pour K=16 le score de précision du train est 77.10%\n",
            "\n",
            "Pour K=17 le score de précision des tests est 75.51%\n",
            "Pour K=17 le score de précision du train est 77.68%\n",
            "\n",
            "Pour K=18 le score de précision des tests est 75.19%\n",
            "Pour K=18 le score de précision du train est 76.86%\n",
            "\n",
            "Pour K=19 le score de précision des tests est 75.82%\n",
            "Pour K=19 le score de précision du train est 77.25%\n",
            "\n"
          ]
        }
      ],
      "source": [
        "# faire le test et le train pour k allant de 1 jusqu'à 20\n",
        "for i in range(2,20):\n",
        "    knn= KNeighborsClassifier(n_neighbors=i)\n",
        "    knn.fit(X_train_s,y_train)\n",
        "    Y_pred = knn.predict(X_test_s)\n",
        "    Y_test_pred =  knn.predict(X_test_s)\n",
        "    knn_test_accuracy = metrics.accuracy_score(y_test,Y_pred)\n",
        "    knn_train_accuracy = knn.score(X_train_s,y_train)\n",
        "     \n",
        "    \n",
        "    print(f\"Pour K={i} le score de précision des tests est {knn_test_accuracy*100:.2f}%\".format(i,knn_test_accuracy))\n",
        "    print(f\"Pour K={i} le score de précision du train est {knn_train_accuracy*100:.2f}%\".format(i,knn_train_accuracy))\n",
        "    \n",
        "    print()"
      ],
      "id": "BCRLLQ--qCL7"
    },
    {
      "cell_type": "markdown",
      "metadata": {
        "id": "Ce5Oi9eYqCL7"
      },
      "source": [
        "Le K qui a plus d'accuracy est : 5"
      ],
      "id": "Ce5Oi9eYqCL7"
    },
    {
      "cell_type": "markdown",
      "metadata": {
        "id": "Vy-Ob4e0qCL7"
      },
      "source": [
        "#### Evaluation de performance de KNN5"
      ],
      "id": "Vy-Ob4e0qCL7"
    },
    {
      "cell_type": "code",
      "execution_count": null,
      "metadata": {
        "id": "cfpq90nRqCL7",
        "colab": {
          "base_uri": "https://localhost:8080/"
        },
        "outputId": "db47e495-7e52-4555-b05f-7281e6a24d7f"
      },
      "outputs": [
        {
          "output_type": "stream",
          "name": "stdout",
          "text": [
            "Le rapport de l'ensemble d'apprentissage: \n",
            "               precision    recall  f1-score   support\n",
            "\n",
            "           0       0.82      0.86      0.84      4670\n",
            "           1       0.84      0.79      0.81      4214\n",
            "\n",
            "    accuracy                           0.83      8884\n",
            "   macro avg       0.83      0.82      0.83      8884\n",
            "weighted avg       0.83      0.83      0.83      8884\n",
            "\n",
            "Le rapport de l'ensemble de test: \n",
            "               precision    recall  f1-score   support\n",
            "\n",
            "           0       0.77      0.81      0.79      1175\n",
            "           1       0.77      0.72      0.75      1046\n",
            "\n",
            "    accuracy                           0.77      2221\n",
            "   macro avg       0.77      0.77      0.77      2221\n",
            "weighted avg       0.77      0.77      0.77      2221\n",
            "\n"
          ]
        }
      ],
      "source": [
        "knn5= KNeighborsClassifier(n_neighbors=5)\n",
        "knn5.fit(X_train_s,y_train)\n",
        "knn5_train_pred = knn5.predict(X_train_s)\n",
        "knn5_test_pred =  knn5.predict(X_test_s)\n",
        "print(\"Le rapport de l'ensemble d'apprentissage: \\n\",classification_report(y_train,knn5_train_pred))\n",
        "print(\"Le rapport de l'ensemble de test: \\n\",classification_report(y_test,knn5_test_pred))"
      ],
      "id": "cfpq90nRqCL7"
    },
    {
      "cell_type": "markdown",
      "source": [
        "#### Overfitting and underfitting\n",
        "Le score d'accuracy de l'ensemble d'apprentissage est de 77,44 %, tandis que l'accuracy de l'ensemble de test est de 75,82 %. Ces deux valeurs sont tout à fait comparables. Il n'est donc pas question de overfitting.\n",
        "\n"
      ],
      "metadata": {
        "id": "71ye201G9nd5"
      },
      "id": "71ye201G9nd5"
    },
    {
      "cell_type": "code",
      "source": [
        "report_knn5_test =classification_report(y_test,knn5_test_pred, output_dict=True )\n",
        "report_knn5_train =classification_report(y_train,knn5_train_pred, output_dict=True )"
      ],
      "metadata": {
        "id": "ZQDgF1tMCkPv"
      },
      "id": "ZQDgF1tMCkPv",
      "execution_count": null,
      "outputs": []
    },
    {
      "cell_type": "markdown",
      "metadata": {
        "id": "meMalayxqCL8"
      },
      "source": [
        "### Arbre de décision "
      ],
      "id": "meMalayxqCL8"
    },
    {
      "cell_type": "code",
      "execution_count": null,
      "metadata": {
        "scrolled": true,
        "colab": {
          "base_uri": "https://localhost:8080/"
        },
        "id": "O-Qe_GXFqCL8",
        "outputId": "fb17a332-ef18-496c-e4b3-3dbbf4765fe9"
      },
      "outputs": [
        {
          "output_type": "stream",
          "name": "stdout",
          "text": [
            "Valeur prédictée:  [0 0 0 1 0 1 1 1 1 1]\n",
            "Valeur actuelle:   [0 0 0 1 1 0 1 1 1 1]\n"
          ]
        }
      ],
      "source": [
        "dtc = DecisionTreeClassifier(random_state=0)\n",
        "dtc.fit(X_train_s, y_train)\n",
        "dtc_test_pred = dtc.predict(X_test_s)\n",
        "dtc_train_pred=dtc.predict(X_train_s)\n",
        "print(\"Valeur prédictée: \", dtc_test_pred[:10])\n",
        "print(\"Valeur actuelle:  \", y_test[:10].to_numpy())"
      ],
      "id": "O-Qe_GXFqCL8"
    },
    {
      "cell_type": "markdown",
      "metadata": {
        "id": "CT4nXLA6qCL8"
      },
      "source": [
        "#### Evaluation de performance de AD\n",
        "\n",
        "\n",
        "\n"
      ],
      "id": "CT4nXLA6qCL8"
    },
    {
      "cell_type": "code",
      "execution_count": null,
      "metadata": {
        "id": "pJYLnKqHqCL8",
        "colab": {
          "base_uri": "https://localhost:8080/"
        },
        "outputId": "45c022c9-f84c-49d4-aa9f-530316b4d2cf"
      },
      "outputs": [
        {
          "output_type": "stream",
          "name": "stdout",
          "text": [
            "Le rapport de l'ensemble d'apprentissage: \n",
            "               precision    recall  f1-score   support\n",
            "\n",
            "           0       1.00      1.00      1.00      4670\n",
            "           1       1.00      1.00      1.00      4214\n",
            "\n",
            "    accuracy                           1.00      8884\n",
            "   macro avg       1.00      1.00      1.00      8884\n",
            "weighted avg       1.00      1.00      1.00      8884\n",
            "\n",
            "Le rapport de lensemble de test : \n",
            "               precision    recall  f1-score   support\n",
            "\n",
            "           0       0.80      0.80      0.80      1175\n",
            "           1       0.77      0.77      0.77      1046\n",
            "\n",
            "    accuracy                           0.79      2221\n",
            "   macro avg       0.79      0.79      0.79      2221\n",
            "weighted avg       0.79      0.79      0.79      2221\n",
            "\n"
          ]
        }
      ],
      "source": [
        "print(\"Le rapport de l'ensemble d'apprentissage: \\n\", classification_report(y_train,dtc_train_pred))\n",
        "print(\"Le rapport de lensemble de test : \\n\", classification_report(y_test,dtc_test_pred))"
      ],
      "id": "pJYLnKqHqCL8"
    },
    {
      "cell_type": "markdown",
      "source": [
        "il semble  bien qu'il y a un sur-apprentissage (overfitting), pour résoudre ce problème il y a 3 méthodes qui sont Pre-Pruning ou Post-Pruning l'utlisation de l'algo random forest on va travailler seulement avec les 2 premieres méthodes."
      ],
      "metadata": {
        "id": "1kwrMC9KGNBn"
      },
      "id": "1kwrMC9KGNBn"
    },
    {
      "cell_type": "markdown",
      "source": [
        "#### Pre-Pruning\n",
        "\n",
        "La technique de pré-élagage fait référence à l'arrêt précoce de la croissance de l'arbre de décision. La technique de pré-élagage consiste à régler les hyperparamètres du modèle d'arbre décisionnel avant le pipeline de formation. Les hyperparamètres de l'arbre de décision, notamment **max_depth, min_samples_leaf, min_samples_split**, peuvent être réglés afin d'arrêter précocement la croissance de l'arbre et d'éviter que le modèle ne soit surajusté."
      ],
      "metadata": {
        "id": "EEa1HtdrHFql"
      },
      "id": "EEa1HtdrHFql"
    },
    {
      "cell_type": "code",
      "source": [
        "from sklearn.model_selection import GridSearchCV\n",
        "from sklearn.metrics import roc_auc_score\n",
        "param_grid = {\n",
        "    \"max_depth\": [3,5,10,15,20,None],\n",
        "    \"min_samples_split\": [2,5,7,10],\n",
        "    \"min_samples_leaf\": [1,2,5]\n",
        "}\n",
        "\n",
        "clf = DecisionTreeClassifier(random_state=42)\n",
        "grid_cv = GridSearchCV(clf, param_grid, scoring=\"roc_auc\", n_jobs=-1, cv=3).fit(X_train_s, y_train)\n",
        "\n",
        "print(\"Param for GS\", grid_cv.best_params_)\n",
        "print(\"CV score for GS\", grid_cv.best_score_)\n",
        "print(\"Train AUC ROC Score for GS: \", roc_auc_score(y_train, grid_cv.predict(X_train_s)))\n",
        "print(\"Test AUC ROC Score for GS: \", roc_auc_score(y_test, grid_cv.predict(X_test_s)))"
      ],
      "metadata": {
        "colab": {
          "base_uri": "https://localhost:8080/"
        },
        "id": "3kqIoKbZENrP",
        "outputId": "798e32ee-e1ac-41c3-9590-06c0b36cb9f5"
      },
      "id": "3kqIoKbZENrP",
      "execution_count": null,
      "outputs": [
        {
          "output_type": "stream",
          "name": "stdout",
          "text": [
            "Param for GS {'max_depth': 10, 'min_samples_leaf': 5, 'min_samples_split': 2}\n",
            "CV score for GS 0.8709530702517622\n",
            "Train AUC ROC Score for GS:  0.8737143141704667\n",
            "Test AUC ROC Score for GS:  0.8237280826654734\n"
          ]
        }
      ]
    },
    {
      "cell_type": "markdown",
      "source": [
        "Le score de précision de l'ensemble de formation est de **87,37%** tandis que la précision de l'ensemble de test est de **82,37%**. Ces deux valeurs sont tout à fait comparables. Il n'y a donc pas de problème de overfitting."
      ],
      "metadata": {
        "id": "jXtP-FgkHs6r"
      },
      "id": "jXtP-FgkHs6r"
    },
    {
      "cell_type": "markdown",
      "source": [
        "####Post-Pruning\n",
        "La technique de post-élagage permet au modèle d'arbre de décision de croître jusqu'à sa pleine profondeur, puis supprime les branches de l'arbre pour empêcher le modèle de sur-ajuster. **L'élagage de la complexité des coûts (ccp)** est un type de technique post-élagage. En cas d'élagage de la complexité des coûts, le ccp_alpha peut être ajusté pour obtenir le meilleur modèle d'ajustement.\n",
        "\n",
        "Le package Scikit-learn est fourni avec l'implémentation pour calculer les valeurs **ccp_alpha** de l'arbre de décision à l'aide de la fonction **cost_complexity_pruning_path**(). Avec l'augmentation des valeurs **ccp_apha**, davantage de nœuds de l'arbre sont élagués."
      ],
      "metadata": {
        "id": "D4e_bUTNHIJg"
      },
      "id": "D4e_bUTNHIJg"
    },
    {
      "cell_type": "code",
      "source": [
        "# Allow a decision tree to grow to its full depth\n",
        "clf = DecisionTreeClassifier(random_state=42)\n",
        "clf.fit(X_train_s, y_train)\n",
        "\n",
        "# compute ccp_alpha values\n",
        "path = clf.cost_complexity_pruning_path(X_train_s, y_train)\n",
        "ccp_alphas, impurities = path.ccp_alphas, path.impurities\n",
        "\n",
        "# train DT classifier for each ccp_alpha value\n",
        "clfs = []\n",
        "for ccp_alpha in ccp_alphas:\n",
        "    clf = DecisionTreeClassifier(random_state=42, ccp_alpha=ccp_alpha)\n",
        "    clf.fit(X_train_s, y_train)\n",
        "    clfs.append(clf)\n",
        "\n",
        "# Plot train and test score for each of the above trained model    \n",
        "clfs = clfs[:-1]\n",
        "ccp_alphas = ccp_alphas[:-1]\n",
        "\n",
        "train_scores = [roc_auc_score(y_train, clf.predict(X_train_s)) for clf in clfs]\n",
        "test_scores = [roc_auc_score(y_test, clf.predict(X_test_s)) for clf in clfs]\n",
        "\n",
        "fig, ax = plt.subplots()\n",
        "ax.set_xlabel(\"alpha\")\n",
        "ax.set_ylabel(\"accuracy\")\n",
        "ax.set_title(\"AUC-ROC score vs alpha\")\n",
        "ax.plot(ccp_alphas, train_scores, marker='o', label=\"train\")\n",
        "ax.plot(ccp_alphas, test_scores, marker='o', label=\"test\")\n",
        "ax.legend()\n",
        "plt.show()"
      ],
      "metadata": {
        "colab": {
          "base_uri": "https://localhost:8080/",
          "height": 295
        },
        "id": "Icod1Do7FM8U",
        "outputId": "f573a0aa-6f4f-4596-a95d-19b941b5626b"
      },
      "id": "Icod1Do7FM8U",
      "execution_count": null,
      "outputs": [
        {
          "output_type": "display_data",
          "data": {
            "text/plain": [
              "<Figure size 432x288 with 1 Axes>"
            ],
            "image/png": "[encoded data removed]"
          },
          "metadata": {
            "needs_background": "light"
          }
        }
      ]
    },
    {
      "cell_type": "markdown",
      "source": [
        "On remarque que la **meilleure** accuracy entre training et testing c'est **85%**.\n",
        "\n",
        "Alors avec ces 2 méthodes on a résolu le problème d'overfitting."
      ],
      "metadata": {
        "id": "A9ZqCoe7IEt7"
      },
      "id": "A9ZqCoe7IEt7"
    },
    {
      "cell_type": "code",
      "source": [
        "clf2 = DecisionTreeClassifier(random_state=42, ccp_alpha=0.001)\n",
        "clf2.fit(X_train_s, y_train)\n",
        "clf2_train_pred = clf2.predict(X_train_s)\n",
        "clf2_test_pred =  clf2.predict(X_test_s)\n",
        "print(\"Le rapport de l'ensemble d'apprentissage: \\n\",classification_report(y_train,clf2_train_pred))\n",
        "print(\"Le rapport de l'ensemble de test: \\n\",classification_report(y_test,clf2_test_pred))"
      ],
      "metadata": {
        "colab": {
          "base_uri": "https://localhost:8080/"
        },
        "id": "OdN4Px_ZD0F2",
        "outputId": "c79fd8f2-9ad2-4a7b-b0ff-11d2a71c9492"
      },
      "id": "OdN4Px_ZD0F2",
      "execution_count": null,
      "outputs": [
        {
          "output_type": "stream",
          "name": "stdout",
          "text": [
            "Le rapport de l'ensemble d'apprentissage: \n",
            "               precision    recall  f1-score   support\n",
            "\n",
            "           0       0.86      0.85      0.85      4670\n",
            "           1       0.83      0.85      0.84      4214\n",
            "\n",
            "    accuracy                           0.85      8884\n",
            "   macro avg       0.85      0.85      0.85      8884\n",
            "weighted avg       0.85      0.85      0.85      8884\n",
            "\n",
            "Le rapport de l'ensemble de test: \n",
            "               precision    recall  f1-score   support\n",
            "\n",
            "           0       0.86      0.83      0.85      1175\n",
            "           1       0.82      0.85      0.83      1046\n",
            "\n",
            "    accuracy                           0.84      2221\n",
            "   macro avg       0.84      0.84      0.84      2221\n",
            "weighted avg       0.84      0.84      0.84      2221\n",
            "\n"
          ]
        }
      ]
    },
    {
      "cell_type": "code",
      "source": [
        "report_clf2_test =classification_report(y_test,clf2_test_pred, output_dict=True )\n",
        "report_clf2_train =classification_report(y_train,clf2_train_pred, output_dict=True )"
      ],
      "metadata": {
        "id": "a4AVNO7ND10M"
      },
      "id": "a4AVNO7ND10M",
      "execution_count": null,
      "outputs": []
    },
    {
      "cell_type": "markdown",
      "metadata": {
        "id": "LWhqueFIqCL9"
      },
      "source": [
        "### Naive Bayes"
      ],
      "id": "LWhqueFIqCL9"
    },
    {
      "cell_type": "code",
      "execution_count": null,
      "metadata": {
        "id": "RPfrlPglqCL9",
        "colab": {
          "base_uri": "https://localhost:8080/"
        },
        "outputId": "9def3430-2d1b-4b2a-af4a-791110cfdad6"
      },
      "outputs": [
        {
          "output_type": "stream",
          "name": "stdout",
          "text": [
            "La valeur prédictée:  [0 0 0 0 1 0 1 1 1 1]\n",
            "Valeur actuelle    :  [0 0 0 1 1 0 1 1 1 1]\n"
          ]
        }
      ],
      "source": [
        "nb= GaussianNB()\n",
        "nb.fit(X_train_s,y_train)\n",
        "nb_test_pred = nb.predict(X_test_s)\n",
        "nb_train_pred=nb.predict(X_train_s)\n",
        "print(\"La valeur prédictée: \", nb_test_pred[:10])\n",
        "print(\"Valeur actuelle    : \", y_test[:10].to_numpy())"
      ],
      "id": "RPfrlPglqCL9"
    },
    {
      "cell_type": "markdown",
      "metadata": {
        "id": "IUjpPL1FqCL9"
      },
      "source": [
        "#### Evaluation de performance de Naive Bayes"
      ],
      "id": "IUjpPL1FqCL9"
    },
    {
      "cell_type": "code",
      "execution_count": null,
      "metadata": {
        "id": "EubiyDWyqCL9",
        "colab": {
          "base_uri": "https://localhost:8080/"
        },
        "outputId": "c4490c2f-3284-48f6-d2d1-c716f56de966"
      },
      "outputs": [
        {
          "output_type": "stream",
          "name": "stdout",
          "text": [
            "Le rapport de l'ensemble d'apprentissage: \n",
            "               precision    recall  f1-score   support\n",
            "\n",
            "           0       0.70      0.81      0.75      4670\n",
            "           1       0.74      0.62      0.67      4214\n",
            "\n",
            "    accuracy                           0.72      8884\n",
            "   macro avg       0.72      0.71      0.71      8884\n",
            "weighted avg       0.72      0.72      0.72      8884\n",
            "\n",
            "Le rapport de l'ensemble de test: \n",
            "               precision    recall  f1-score   support\n",
            "\n",
            "           0       0.71      0.81      0.75      1175\n",
            "           1       0.74      0.62      0.68      1046\n",
            "\n",
            "    accuracy                           0.72      2221\n",
            "   macro avg       0.72      0.71      0.71      2221\n",
            "weighted avg       0.72      0.72      0.72      2221\n",
            "\n"
          ]
        }
      ],
      "source": [
        "print(\"Le rapport de l'ensemble d'apprentissage: \\n\",classification_report(y_train,nb_train_pred))\n",
        "print(\"Le rapport de l'ensemble de test: \\n\",classification_report(y_test,nb_test_pred))"
      ],
      "id": "EubiyDWyqCL9"
    },
    {
      "cell_type": "markdown",
      "source": [
        "Pas de overfitting."
      ],
      "metadata": {
        "id": "gLH0DeqaJJ6x"
      },
      "id": "gLH0DeqaJJ6x"
    },
    {
      "cell_type": "code",
      "source": [
        "report_nb_test =classification_report(y_test,nb_test_pred, output_dict=True )\n",
        "report_nb_train =classification_report(y_train,nb_train_pred, output_dict=True )"
      ],
      "metadata": {
        "id": "UDcibBS7DM8o"
      },
      "id": "UDcibBS7DM8o",
      "execution_count": null,
      "outputs": []
    },
    {
      "cell_type": "markdown",
      "source": [
        "###SVM"
      ],
      "metadata": {
        "id": "oGsXwAWnh6Xn"
      },
      "id": "oGsXwAWnh6Xn"
    },
    {
      "cell_type": "code",
      "source": [
        "from sklearn import svm"
      ],
      "metadata": {
        "id": "VdbxiLcOh6Xq"
      },
      "execution_count": null,
      "outputs": [],
      "id": "VdbxiLcOh6Xq"
    },
    {
      "cell_type": "code",
      "source": [
        "svc = svm.SVC(kernel='rbf', C=70, gamma=0.001).fit(X_train_s,y_train)\n",
        "predictionsvm_train = svc.predict(X_train_s)\n",
        "predictionsvm_test = svc.predict(X_test_s)\n",
        "print(\"La valeur prédictée: \", predictionsvm_test[:10])\n",
        "print(\"Valeur actuelle    : \", y_test[:10].to_numpy())"
      ],
      "metadata": {
        "id": "QPMJSTTYh6Xs",
        "colab": {
          "base_uri": "https://localhost:8080/"
        },
        "outputId": "d92e63ff-9524-422f-e68b-1eae93f27547"
      },
      "execution_count": null,
      "outputs": [
        {
          "output_type": "stream",
          "name": "stdout",
          "text": [
            "La valeur prédictée:  [0 1 0 1 1 1 1 1 1 1]\n",
            "Valeur actuelle    :  [0 0 0 1 1 0 1 1 1 1]\n"
          ]
        }
      ],
      "id": "QPMJSTTYh6Xs"
    },
    {
      "cell_type": "markdown",
      "source": [
        "#### Evaluation de performance de SVM"
      ],
      "metadata": {
        "id": "dxATA2eeh6Xs"
      },
      "id": "dxATA2eeh6Xs"
    },
    {
      "cell_type": "code",
      "source": [
        "print(\"Le rapport de l'ensemble d'apprentissage: \\n\",classification_report(y_train,predictionsvm_train))\n",
        "print(\"Le rapport de l'ensemble de test: \\n\",classification_report(y_test,predictionsvm_test))"
      ],
      "metadata": {
        "id": "z0Hmasy4h6Xt",
        "colab": {
          "base_uri": "https://localhost:8080/"
        },
        "outputId": "c14a1585-8e0a-4890-cbf6-6c1edd1e4e56"
      },
      "execution_count": null,
      "outputs": [
        {
          "output_type": "stream",
          "name": "stdout",
          "text": [
            "Le rapport de l'ensemble d'apprentissage: \n",
            "               precision    recall  f1-score   support\n",
            "\n",
            "           0       0.83      0.84      0.83      4670\n",
            "           1       0.82      0.81      0.81      4214\n",
            "\n",
            "    accuracy                           0.82      8884\n",
            "   macro avg       0.82      0.82      0.82      8884\n",
            "weighted avg       0.82      0.82      0.82      8884\n",
            "\n",
            "Le rapport de l'ensemble de test: \n",
            "               precision    recall  f1-score   support\n",
            "\n",
            "           0       0.82      0.84      0.83      1175\n",
            "           1       0.81      0.80      0.81      1046\n",
            "\n",
            "    accuracy                           0.82      2221\n",
            "   macro avg       0.82      0.82      0.82      2221\n",
            "weighted avg       0.82      0.82      0.82      2221\n",
            "\n"
          ]
        }
      ],
      "id": "z0Hmasy4h6Xt"
    },
    {
      "cell_type": "code",
      "source": [
        "report_svm_test =classification_report(y_test,predictionsvm_test, output_dict=True )\n",
        "report_svm_train =classification_report(y_train,predictionsvm_train, output_dict=True )"
      ],
      "metadata": {
        "id": "Tum017iuh6Xu"
      },
      "execution_count": null,
      "outputs": [],
      "id": "Tum017iuh6Xu"
    },
    {
      "cell_type": "markdown",
      "metadata": {
        "id": "jYN03IwSrMVd"
      },
      "source": [
        "### Comparaison entre les modèles de classification"
      ],
      "id": "jYN03IwSrMVd"
    },
    {
      "cell_type": "code",
      "source": [
        "models=[knn5,clf2,nb,svc]\n",
        "models_name=[\"KNN5\",\"DTC\",\"NB\",\"SVM\"]\n",
        "fig, axes = plt.subplots(1,4, figsize=(17, 5))\n",
        "fig.tight_layout(pad=5.0)\n",
        "for model, ax,model_name in zip(models, axes.flatten(),models_name):\n",
        "    \n",
        "    plot=plot_confusion_matrix(model, X_test_s, y_test, display_labels=[\"No\",\"Yes\"],ax=ax)\n",
        "    \n",
        "    ax.tick_params(axis='x', rotation=45)\n",
        "    plot.ax_.set_title(\"Matrice de confusion de \"+model_name)"
      ],
      "metadata": {
        "colab": {
          "base_uri": "https://localhost:8080/",
          "height": 368
        },
        "id": "qwuSKqKvDsmP",
        "outputId": "494643e0-eb15-457c-cc3a-d4de2463393e"
      },
      "id": "qwuSKqKvDsmP",
      "execution_count": null,
      "outputs": [
        {
          "output_type": "stream",
          "name": "stderr",
          "text": [
            "/usr/local/lib/python3.8/dist-packages/sklearn/utils/deprecation.py:87: FutureWarning: Function plot_confusion_matrix is deprecated; Function `plot_confusion_matrix` is deprecated in 1.0 and will be removed in 1.2. Use one of the class methods: ConfusionMatrixDisplay.from_predictions or ConfusionMatrixDisplay.from_estimator.\n",
            "  warnings.warn(msg, category=FutureWarning)\n",
            "/usr/local/lib/python3.8/dist-packages/sklearn/utils/deprecation.py:87: FutureWarning: Function plot_confusion_matrix is deprecated; Function `plot_confusion_matrix` is deprecated in 1.0 and will be removed in 1.2. Use one of the class methods: ConfusionMatrixDisplay.from_predictions or ConfusionMatrixDisplay.from_estimator.\n",
            "  warnings.warn(msg, category=FutureWarning)\n",
            "/usr/local/lib/python3.8/dist-packages/sklearn/utils/deprecation.py:87: FutureWarning: Function plot_confusion_matrix is deprecated; Function `plot_confusion_matrix` is deprecated in 1.0 and will be removed in 1.2. Use one of the class methods: ConfusionMatrixDisplay.from_predictions or ConfusionMatrixDisplay.from_estimator.\n",
            "  warnings.warn(msg, category=FutureWarning)\n",
            "/usr/local/lib/python3.8/dist-packages/sklearn/utils/deprecation.py:87: FutureWarning: Function plot_confusion_matrix is deprecated; Function `plot_confusion_matrix` is deprecated in 1.0 and will be removed in 1.2. Use one of the class methods: ConfusionMatrixDisplay.from_predictions or ConfusionMatrixDisplay.from_estimator.\n",
            "  warnings.warn(msg, category=FutureWarning)\n"
          ]
        },
        {
          "output_type": "display_data",
          "data": {
            "text/plain": [
              "<Figure size 1224x360 with 8 Axes>"
            ],
            "image/png": "[encoded data removed]"
          },
          "metadata": {
            "needs_background": "light"
          }
        }
      ]
    },
    {
      "cell_type": "code",
      "execution_count": null,
      "metadata": {
        "scrolled": true,
        "id": "bKv9R7NLrMVe"
      },
      "outputs": [],
      "source": [
        "scores_data = {'model_name':  ['KNN5', 'DTC', 'NB','SVM'],\n",
        "        'accuracy_train': [report_knn5_train['accuracy'], report_clf2_train['accuracy'], report_nb_train['accuracy'],report_svm_train['accuracy'] ],\n",
        "          'accuracy_test': [report_knn5_test['accuracy'] ,report_clf2_test['accuracy'], report_nb_test['accuracy'],report_svm_test['accuracy'] ],\n",
        "          'precision_train': [report_knn5_train['macro avg']['precision'] ,report_clf2_train['macro avg']['precision'], report_nb_train['macro avg']['precision'],report_svm_train['macro avg']['precision'] ] ,\n",
        "          'precision_test': [report_knn5_test['macro avg']['precision'] ,report_clf2_test['macro avg']['precision'], report_nb_test['macro avg']['precision'],report_svm_test['macro avg']['precision'] ] ,\n",
        "          'recall_train': [report_knn5_train['macro avg']['recall'] ,report_clf2_train['macro avg']['recall'], report_nb_train['macro avg']['recall'],report_svm_train['macro avg']['recall']] ,\n",
        "          'recall_test': [report_knn5_test['macro avg']['precision'],report_clf2_test['macro avg']['precision'],report_nb_test['macro avg']['precision'],report_svm_test['macro avg']['precision']] ,\n",
        "          'f1_train': [report_knn5_train['macro avg']['f1-score'],report_clf2_train['macro avg']['f1-score'],report_nb_train['macro avg']['f1-score'],report_svm_train['macro avg']['f1-score']] ,\n",
        "          'f1_test': [report_knn5_test['macro avg']['f1-score'] ,report_clf2_test['macro avg']['f1-score'] ,report_nb_test['macro avg']['f1-score'] ,report_svm_test['macro avg']['f1-score']] \n",
        "        }\n",
        "scores = pd.DataFrame(scores_data)\n",
        "scores.set_index('model_name', inplace=True)"
      ],
      "id": "bKv9R7NLrMVe"
    },
    {
      "cell_type": "code",
      "execution_count": null,
      "metadata": {
        "scrolled": true,
        "id": "Lo5elQHHrMVe",
        "colab": {
          "base_uri": "https://localhost:8080/",
          "height": 226
        },
        "outputId": "4e99fdc0-69ae-4b35-ea6e-f711a43b819b"
      },
      "outputs": [
        {
          "output_type": "execute_result",
          "data": {
            "text/plain": [
              "<pandas.io.formats.style.Styler at 0x7fb872f94130>"
            ],
            "text/html": [
              "<style type=\"text/css\">\n",
              "</style>\n",
              "<table id=\"T_c92c7_\" class=\"dataframe\">\n",
              "  <thead>\n",
              "    <tr>\n",
              "      <th class=\"blank level0\" >&nbsp;</th>\n",
              "      <th class=\"col_heading level0 col0\" >accuracy_train</th>\n",
              "      <th class=\"col_heading level0 col1\" >accuracy_test</th>\n",
              "      <th class=\"col_heading level0 col2\" >precision_train</th>\n",
              "      <th class=\"col_heading level0 col3\" >precision_test</th>\n",
              "      <th class=\"col_heading level0 col4\" >recall_train</th>\n",
              "      <th class=\"col_heading level0 col5\" >recall_test</th>\n",
              "      <th class=\"col_heading level0 col6\" >f1_train</th>\n",
              "      <th class=\"col_heading level0 col7\" >f1_test</th>\n",
              "    </tr>\n",
              "    <tr>\n",
              "      <th class=\"index_name level0\" >model_name</th>\n",
              "      <th class=\"blank col0\" >&nbsp;</th>\n",
              "      <th class=\"blank col1\" >&nbsp;</th>\n",
              "      <th class=\"blank col2\" >&nbsp;</th>\n",
              "      <th class=\"blank col3\" >&nbsp;</th>\n",
              "      <th class=\"blank col4\" >&nbsp;</th>\n",
              "      <th class=\"blank col5\" >&nbsp;</th>\n",
              "      <th class=\"blank col6\" >&nbsp;</th>\n",
              "      <th class=\"blank col7\" >&nbsp;</th>\n",
              "    </tr>\n",
              "  </thead>\n",
              "  <tbody>\n",
              "    <tr>\n",
              "      <th id=\"T_c92c7_level0_row0\" class=\"row_heading level0 row0\" >KNN5</th>\n",
              "      <td id=\"T_c92c7_row0_col0\" class=\"data row0 col0\" >82.63%</td>\n",
              "      <td id=\"T_c92c7_row0_col1\" class=\"data row0 col1\" >76.86%</td>\n",
              "      <td id=\"T_c92c7_row0_col2\" class=\"data row0 col2\" >82.73%</td>\n",
              "      <td id=\"T_c92c7_row0_col3\" class=\"data row0 col3\" >76.90%</td>\n",
              "      <td id=\"T_c92c7_row0_col4\" class=\"data row0 col4\" >82.44%</td>\n",
              "      <td id=\"T_c92c7_row0_col5\" class=\"data row0 col5\" >76.90%</td>\n",
              "      <td id=\"T_c92c7_row0_col6\" class=\"data row0 col6\" >82.52%</td>\n",
              "      <td id=\"T_c92c7_row0_col7\" class=\"data row0 col7\" >76.67%</td>\n",
              "    </tr>\n",
              "    <tr>\n",
              "      <th id=\"T_c92c7_level0_row1\" class=\"row_heading level0 row1\" >DTC</th>\n",
              "      <td id=\"T_c92c7_row1_col0\" class=\"data row1 col0\" >84.65%</td>\n",
              "      <td id=\"T_c92c7_row1_col1\" class=\"data row1 col1\" >84.11%</td>\n",
              "      <td id=\"T_c92c7_row1_col2\" class=\"data row1 col2\" >84.60%</td>\n",
              "      <td id=\"T_c92c7_row1_col3\" class=\"data row1 col3\" >84.06%</td>\n",
              "      <td id=\"T_c92c7_row1_col4\" class=\"data row1 col4\" >84.64%</td>\n",
              "      <td id=\"T_c92c7_row1_col5\" class=\"data row1 col5\" >84.06%</td>\n",
              "      <td id=\"T_c92c7_row1_col6\" class=\"data row1 col6\" >84.62%</td>\n",
              "      <td id=\"T_c92c7_row1_col7\" class=\"data row1 col7\" >84.08%</td>\n",
              "    </tr>\n",
              "    <tr>\n",
              "      <th id=\"T_c92c7_level0_row2\" class=\"row_heading level0 row2\" >NB</th>\n",
              "      <td id=\"T_c92c7_row2_col0\" class=\"data row2 col0\" >71.81%</td>\n",
              "      <td id=\"T_c92c7_row2_col1\" class=\"data row2 col1\" >71.99%</td>\n",
              "      <td id=\"T_c92c7_row2_col2\" class=\"data row2 col2\" >72.29%</td>\n",
              "      <td id=\"T_c92c7_row2_col3\" class=\"data row2 col3\" >72.35%</td>\n",
              "      <td id=\"T_c92c7_row2_col4\" class=\"data row2 col4\" >71.32%</td>\n",
              "      <td id=\"T_c92c7_row2_col5\" class=\"data row2 col5\" >72.35%</td>\n",
              "      <td id=\"T_c92c7_row2_col6\" class=\"data row2 col6\" >71.31%</td>\n",
              "      <td id=\"T_c92c7_row2_col7\" class=\"data row2 col7\" >71.49%</td>\n",
              "    </tr>\n",
              "    <tr>\n",
              "      <th id=\"T_c92c7_level0_row3\" class=\"row_heading level0 row3\" >SVM</th>\n",
              "      <td id=\"T_c92c7_row3_col0\" class=\"data row3 col0\" >82.49%</td>\n",
              "      <td id=\"T_c92c7_row3_col1\" class=\"data row3 col1\" >81.86%</td>\n",
              "      <td id=\"T_c92c7_row3_col2\" class=\"data row3 col2\" >82.46%</td>\n",
              "      <td id=\"T_c92c7_row3_col3\" class=\"data row3 col3\" >81.82%</td>\n",
              "      <td id=\"T_c92c7_row3_col4\" class=\"data row3 col4\" >82.39%</td>\n",
              "      <td id=\"T_c92c7_row3_col5\" class=\"data row3 col5\" >81.82%</td>\n",
              "      <td id=\"T_c92c7_row3_col6\" class=\"data row3 col6\" >82.42%</td>\n",
              "      <td id=\"T_c92c7_row3_col7\" class=\"data row3 col7\" >81.77%</td>\n",
              "    </tr>\n",
              "  </tbody>\n",
              "</table>\n"
            ]
          },
          "metadata": {},
          "execution_count": 52
        }
      ],
      "source": [
        "output = scores.style.format({\n",
        "    'accuracy_train': '{:,.2%}'.format,\n",
        "    'accuracy_test': '{:,.2%}'.format,\n",
        "    'precision_train': '{:,.2%}'.format,\n",
        "    'precision_test': '{:,.2%}'.format,\n",
        "    'recall_train': '{:,.2%}'.format,\n",
        "    'recall_test': '{:,.2%}'.format,\n",
        "    'f1_train': '{:,.2%}'.format,\n",
        "    'f1_test': '{:,.2%}'.format,\n",
        "})\n",
        "output"
      ],
      "id": "Lo5elQHHrMVe"
    },
    {
      "cell_type": "code",
      "execution_count": null,
      "metadata": {
        "id": "YJdGA3zRrMVf",
        "colab": {
          "base_uri": "https://localhost:8080/",
          "height": 352
        },
        "outputId": "a8620cb8-7f98-4abf-b414-dffce2479abc"
      },
      "outputs": [
        {
          "output_type": "display_data",
          "data": {
            "text/plain": [
              "<Figure size 1008x360 with 2 Axes>"
            ],
            "image/png": "[encoded data removed]"
          },
          "metadata": {
            "needs_background": "light"
          }
        }
      ],
      "source": [
        "fig,(ax1, ax2) = plt.subplots(1, 2,figsize=(20, 10))\n",
        "score1=scores.loc[:,[\"precision_train\",\"precision_test\",\"recall_train\",\"recall_test\",\"f1_train\",\"f1_test\"]]\n",
        "score1.plot(kind=\"line\", figsize = (14, 5),ax=ax1)\n",
        "\n",
        "score2=scores.loc[:,[\"accuracy_train\",\"accuracy_test\"]]\n",
        "score2.plot(kind=\"bar\", figsize = (14, 5),ax=ax2)\n",
        "\n",
        "plt.show()"
      ],
      "id": "YJdGA3zRrMVf"
    },
    {
      "cell_type": "markdown",
      "metadata": {
        "id": "ExyVnUsfrMVf"
      },
      "source": [
        "Le modèle le plus performant est SVM."
      ],
      "id": "ExyVnUsfrMVf"
    },
    {
      "cell_type": "markdown",
      "source": [
        "# Classification non supervisée (Clustering )"
      ],
      "metadata": {
        "id": "4DXtObp-rYc1"
      },
      "id": "4DXtObp-rYc1"
    },
    {
      "cell_type": "markdown",
      "source": [
        "### K-means"
      ],
      "metadata": {
        "id": "0G1IInnhkoQK"
      },
      "id": "0G1IInnhkoQK"
    },
    {
      "cell_type": "markdown",
      "source": [
        "#### without PCA"
      ],
      "metadata": {
        "id": "8kYi13i9r0Rn"
      },
      "id": "8kYi13i9r0Rn"
    },
    {
      "cell_type": "code",
      "source": [
        "from sklearn.cluster import KMeans"
      ],
      "metadata": {
        "id": "nLzYs03wlFID"
      },
      "id": "nLzYs03wlFID",
      "execution_count": null,
      "outputs": []
    },
    {
      "cell_type": "code",
      "source": [
        "from sklearn.preprocessing import MinMaxScaler\n",
        "\n",
        "ms = MinMaxScaler()\n",
        "\n",
        "X_scaled = ms.fit_transform(X)"
      ],
      "metadata": {
        "id": "x3E9YDxhpRMA"
      },
      "id": "x3E9YDxhpRMA",
      "execution_count": null,
      "outputs": []
    },
    {
      "cell_type": "code",
      "source": [
        "cs = []\n",
        "for i in range(1, 11):\n",
        "    kmeans = KMeans(n_clusters = i, init = 'k-means++', max_iter = 300, n_init = 10, random_state = 0)\n",
        "    kmeans.fit(X_train_s)\n",
        "    cs.append(kmeans.inertia_)\n",
        "plt.plot(range(1, 11), cs,marker='o')\n",
        "plt.title('The Elbow Method')\n",
        "plt.xlabel('Number of clusters')\n",
        "plt.ylabel('CS')\n",
        "plt.show()"
      ],
      "metadata": {
        "id": "rXSOJDWwkxr0",
        "colab": {
          "base_uri": "https://localhost:8080/",
          "height": 295
        },
        "outputId": "5fa5ef85-7913-4126-854f-3455aefff061"
      },
      "id": "rXSOJDWwkxr0",
      "execution_count": null,
      "outputs": [
        {
          "output_type": "display_data",
          "data": {
            "text/plain": [
              "<Figure size 432x288 with 1 Axes>"
            ],
            "image/png": "[encoded data removed]"
          },
          "metadata": {
            "needs_background": "light"
          }
        }
      ]
    },
    {
      "cell_type": "code",
      "source": [
        "cs"
      ],
      "metadata": {
        "id": "XPT0z9LAowXA",
        "colab": {
          "base_uri": "https://localhost:8080/"
        },
        "outputId": "9fe4bce9-e9fc-43f3-8a45-11a7a558c707"
      },
      "id": "XPT0z9LAowXA",
      "execution_count": null,
      "outputs": [
        {
          "output_type": "execute_result",
          "data": {
            "text/plain": [
              "[284287.9999999997,\n",
              " 263486.3407949456,\n",
              " 249303.2849271188,\n",
              " 238807.67595385783,\n",
              " 227496.3544920173,\n",
              " 219980.55833390605,\n",
              " 210824.28404503225,\n",
              " 203343.75708994857,\n",
              " 194231.40553518108,\n",
              " 186607.85078165424]"
            ]
          },
          "metadata": {},
          "execution_count": 74
        }
      ]
    },
    {
      "cell_type": "code",
      "source": [
        "accuracies = []\n",
        "for i in range(1, 11):\n",
        "    kmeans = KMeans(n_clusters = i, init = 'k-means++', max_iter = 300, n_init = 10, random_state = 0)\n",
        "    kmeans.fit(X_scaled)\n",
        "    correct_labels = sum(Y == kmeans.labels_)\n",
        "    accuracies.append(correct_labels/float(Y.size))\n",
        "plt.plot(range(1, 11), accuracies,marker='o')\n",
        "plt.title('The Elbow Method')\n",
        "plt.xlabel('Number of clusters')\n",
        "plt.ylabel('accuracy')\n",
        "plt.savefig(\"p.png\")\n",
        "plt.show()"
      ],
      "metadata": {
        "colab": {
          "base_uri": "https://localhost:8080/",
          "height": 295
        },
        "id": "mTjui8GYoQu_",
        "outputId": "c31347d3-bee7-4e55-f9e2-c2617773b34a"
      },
      "id": "mTjui8GYoQu_",
      "execution_count": null,
      "outputs": [
        {
          "output_type": "display_data",
          "data": {
            "text/plain": [
              "<Figure size 432x288 with 1 Axes>"
            ],
            "image/png": "[encoded data removed]"
          },
          "metadata": {
            "needs_background": "light"
          }
        }
      ]
    },
    {
      "cell_type": "code",
      "source": [
        "accuracies"
      ],
      "metadata": {
        "id": "xJGJjSgIpD3e",
        "colab": {
          "base_uri": "https://localhost:8080/"
        },
        "outputId": "fadf2ad9-7c0e-42e7-d9fe-0303fa38b884"
      },
      "id": "xJGJjSgIpD3e",
      "execution_count": null,
      "outputs": [
        {
          "output_type": "execute_result",
          "data": {
            "text/plain": [
              "[0.5263394867176947,\n",
              " 0.5561458802341288,\n",
              " 0.315083295812697,\n",
              " 0.20972534894191805,\n",
              " 0.190004502476362,\n",
              " 0.11886537595677622,\n",
              " 0.11571364250337686,\n",
              " 0.114993246285457,\n",
              " 0.0755515533543449,\n",
              " 0.13660513282305267]"
            ]
          },
          "metadata": {},
          "execution_count": 68
        }
      ]
    },
    {
      "cell_type": "markdown",
      "source": [
        "#####**k=2**"
      ],
      "metadata": {
        "id": "1DpksWgmqGjk"
      },
      "id": "1DpksWgmqGjk"
    },
    {
      "cell_type": "code",
      "source": [
        "kmeans = KMeans(n_clusters = 2, init = 'k-means++', max_iter = 300, n_init = 10, random_state = 0)\n",
        "kmeans.fit(X)"
      ],
      "metadata": {
        "id": "Ja8LLxnhqFDt",
        "colab": {
          "base_uri": "https://localhost:8080/"
        },
        "outputId": "5ecabc7a-665b-4d62-b370-1149f3683d09"
      },
      "id": "Ja8LLxnhqFDt",
      "execution_count": null,
      "outputs": [
        {
          "output_type": "execute_result",
          "data": {
            "text/plain": [
              "KMeans(n_clusters=2, random_state=0)"
            ]
          },
          "metadata": {},
          "execution_count": 69
        }
      ]
    },
    {
      "cell_type": "code",
      "source": [
        "correct_labels = sum(Y == kmeans.labels_)\n",
        "print(\"Result: %d out of %d samples were correctly labeled.\" % (correct_labels, Y.size))\n",
        "print('Accuracy score: {0:0.2f}'. format(correct_labels/float(Y.size)))"
      ],
      "metadata": {
        "colab": {
          "base_uri": "https://localhost:8080/"
        },
        "id": "SLDuGxi0qOnR",
        "outputId": "47d25618-3ed4-4667-a917-25e3f36f6b6d"
      },
      "id": "SLDuGxi0qOnR",
      "execution_count": null,
      "outputs": [
        {
          "output_type": "stream",
          "name": "stdout",
          "text": [
            "Result: 5094 out of 11105 samples were correctly labeled.\n",
            "Accuracy score: 0.46\n"
          ]
        }
      ]
    },
    {
      "cell_type": "markdown",
      "source": [
        "##### with PCA\n"
      ],
      "metadata": {
        "id": "A3uu64PMqhhx"
      },
      "id": "A3uu64PMqhhx"
    },
    {
      "cell_type": "code",
      "source": [
        "from sklearn.preprocessing import StandardScaler, normalize\n",
        "from sklearn.decomposition import PCA"
      ],
      "metadata": {
        "id": "pmLcWmXTqhMq"
      },
      "id": "pmLcWmXTqhMq",
      "execution_count": null,
      "outputs": []
    },
    {
      "cell_type": "code",
      "source": [
        "# Standardize data\n",
        "scaler = StandardScaler() \n",
        "scaled_df = scaler.fit_transform(X) \n",
        "  \n",
        "# Normalizing the Data \n",
        "normalized_df = normalize(scaled_df) \n",
        "  \n",
        "# Converting the numpy array into a pandas DataFrame \n",
        "normalized_df = pd.DataFrame(normalized_df) \n",
        "  \n",
        "# Reducing the dimensions of the data \n",
        "pca = PCA(n_components = 2) \n",
        "X_principal = pca.fit_transform(normalized_df) \n",
        "X_principal = pd.DataFrame(X_principal) \n",
        "X_principal.columns = ['P1', 'P2'] \n",
        "  \n",
        "X_principal.head(2)\n"
      ],
      "metadata": {
        "id": "gWrSRimdqgcw",
        "colab": {
          "base_uri": "https://localhost:8080/",
          "height": 112
        },
        "outputId": "19100165-45af-427d-f58c-4f18224265b5"
      },
      "id": "gWrSRimdqgcw",
      "execution_count": null,
      "outputs": [
        {
          "output_type": "execute_result",
          "data": {
            "text/plain": [
              "         P1        P2\n",
              "0 -0.413049 -0.130399\n",
              "1 -0.318719 -0.100153"
            ],
            "text/html": [
              "\n",
              "  <div id=\"df-eec11f2b-be60-464f-a887-2ec0332b9825\">\n",
              "    <div class=\"colab-df-container\">\n",
              "      <div>\n",
              "<style scoped>\n",
              "    .dataframe tbody tr th:only-of-type {\n",
              "        vertical-align: middle;\n",
              "    }\n",
              "\n",
              "    .dataframe tbody tr th {\n",
              "        vertical-align: top;\n",
              "    }\n",
              "\n",
              "    .dataframe thead th {\n",
              "        text-align: right;\n",
              "    }\n",
              "</style>\n",
              "<table border=\"1\" class=\"dataframe\">\n",
              "  <thead>\n",
              "    <tr style=\"text-align: right;\">\n",
              "      <th></th>\n",
              "      <th>P1</th>\n",
              "      <th>P2</th>\n",
              "    </tr>\n",
              "  </thead>\n",
              "  <tbody>\n",
              "    <tr>\n",
              "      <th>0</th>\n",
              "      <td>-0.413049</td>\n",
              "      <td>-0.130399</td>\n",
              "    </tr>\n",
              "    <tr>\n",
              "      <th>1</th>\n",
              "      <td>-0.318719</td>\n",
              "      <td>-0.100153</td>\n",
              "    </tr>\n",
              "  </tbody>\n",
              "</table>\n",
              "</div>\n",
              "      <button class=\"colab-df-convert\" onclick=\"convertToInteractive('df-eec11f2b-be60-464f-a887-2ec0332b9825')\"\n",
              "              title=\"Convert this dataframe to an interactive table.\"\n",
              "              style=\"display:none;\">\n",
              "        \n",
              "  <svg xmlns=\"http://www.w3.org/2000/svg\" height=\"24px\"viewBox=\"0 0 24 24\"\n",
              "       width=\"24px\">\n",
              "    <path d=\"M0 0h24v24H0V0z\" fill=\"none\"/>\n",
              "    <path d=\"M18.56 5.44l.94 2.06.94-2.06 2.06-.94-2.06-.94-.94-2.06-.94 2.06-2.06.94zm-11 1L8.5 8.5l.94-2.06 2.06-.94-2.06-.94L8.5 2.5l-.94 2.06-2.06.94zm10 10l.94 2.06.94-2.06 2.06-.94-2.06-.94-.94-2.06-.94 2.06-2.06.94z\"/><path d=\"M17.41 7.96l-1.37-1.37c-.4-.4-.92-.59-1.43-.59-.52 0-1.04.2-1.43.59L10.3 9.45l-7.72 7.72c-.78.78-.78 2.05 0 2.83L4 21.41c.39.39.9.59 1.41.59.51 0 1.02-.2 1.41-.59l7.78-7.78 2.81-2.81c.8-.78.8-2.07 0-2.86zM5.41 20L4 18.59l7.72-7.72 1.47 1.35L5.41 20z\"/>\n",
              "  </svg>\n",
              "      </button>\n",
              "      \n",
              "  <style>\n",
              "    .colab-df-container {\n",
              "      display:flex;\n",
              "      flex-wrap:wrap;\n",
              "      gap: 12px;\n",
              "    }\n",
              "\n",
              "    .colab-df-convert {\n",
              "      background-color: #E8F0FE;\n",
              "      border: none;\n",
              "      border-radius: 50%;\n",
              "      cursor: pointer;\n",
              "      display: none;\n",
              "      fill: #1967D2;\n",
              "      height: 32px;\n",
              "      padding: 0 0 0 0;\n",
              "      width: 32px;\n",
              "    }\n",
              "\n",
              "    .colab-df-convert:hover {\n",
              "      background-color: #E2EBFA;\n",
              "      box-shadow: 0px 1px 2px rgba(60, 64, 67, 0.3), 0px 1px 3px 1px rgba(60, 64, 67, 0.15);\n",
              "      fill: #174EA6;\n",
              "    }\n",
              "\n",
              "    [theme=dark] .colab-df-convert {\n",
              "      background-color: #3B4455;\n",
              "      fill: #D2E3FC;\n",
              "    }\n",
              "\n",
              "    [theme=dark] .colab-df-convert:hover {\n",
              "      background-color: #434B5C;\n",
              "      box-shadow: 0px 1px 3px 1px rgba(0, 0, 0, 0.15);\n",
              "      filter: drop-shadow(0px 1px 2px rgba(0, 0, 0, 0.3));\n",
              "      fill: #FFFFFF;\n",
              "    }\n",
              "  </style>\n",
              "\n",
              "      <script>\n",
              "        const buttonEl =\n",
              "          document.querySelector('#df-eec11f2b-be60-464f-a887-2ec0332b9825 button.colab-df-convert');\n",
              "        buttonEl.style.display =\n",
              "          google.colab.kernel.accessAllowed ? 'block' : 'none';\n",
              "\n",
              "        async function convertToInteractive(key) {\n",
              "          const element = document.querySelector('#df-eec11f2b-be60-464f-a887-2ec0332b9825');\n",
              "          const dataTable =\n",
              "            await google.colab.kernel.invokeFunction('convertToInteractive',\n",
              "                                                     [key], {});\n",
              "          if (!dataTable) return;\n",
              "\n",
              "          const docLinkHtml = 'Like what you see? Visit the ' +\n",
              "            '<a target=\"_blank\" href=https://colab.research.google.com/notebooks/data_table.ipynb>data table notebook</a>'\n",
              "            + ' to learn more about interactive tables.';\n",
              "          element.innerHTML = '';\n",
              "          dataTable['output_type'] = 'display_data';\n",
              "          await google.colab.output.renderOutput(dataTable, element);\n",
              "          const docLink = document.createElement('div');\n",
              "          docLink.innerHTML = docLinkHtml;\n",
              "          element.appendChild(docLink);\n",
              "        }\n",
              "      </script>\n",
              "    </div>\n",
              "  </div>\n",
              "  "
            ]
          },
          "metadata": {},
          "execution_count": 77
        }
      ]
    },
    {
      "cell_type": "markdown",
      "source": [
        "#### Elbow method"
      ],
      "metadata": {
        "id": "Grvc4r8oq56E"
      },
      "id": "Grvc4r8oq56E"
    },
    {
      "cell_type": "code",
      "source": [
        "sse = {} #sum of squeared  errors\n",
        "for k in range(1, 10):\n",
        "    kmeans = KMeans(n_clusters=k, max_iter=1000).fit(X_principal)\n",
        "    sse[k] = kmeans.inertia_ # Inertia: Sum of distances of samples to their closest cluster center\n",
        "plt.figure()\n",
        "plt.plot(list(sse.keys()), list(sse.values()),marker='o')\n",
        "plt.xlabel(\"Number of cluster\")\n",
        "plt.ylabel(\"SSE\")\n",
        "plt.savefig(\"p2.png\")\n",
        "plt.show()"
      ],
      "metadata": {
        "colab": {
          "base_uri": "https://localhost:8080/",
          "height": 279
        },
        "id": "sgZdMQwcqxTS",
        "outputId": "a8c4167e-a90f-44f4-8148-ff6eb96ff27b"
      },
      "id": "sgZdMQwcqxTS",
      "execution_count": null,
      "outputs": [
        {
          "output_type": "display_data",
          "data": {
            "text/plain": [
              "<Figure size 432x288 with 1 Axes>"
            ],
            "image/png": "[encoded data removed]"
          },
          "metadata": {
            "needs_background": "light"
          }
        }
      ]
    },
    {
      "cell_type": "markdown",
      "source": [
        "#### Silhouette Coefficient Method"
      ],
      "metadata": {
        "id": "iTGRpT0pq19v"
      },
      "id": "iTGRpT0pq19v"
    },
    {
      "cell_type": "code",
      "source": [
        "from sklearn.metrics import silhouette_score"
      ],
      "metadata": {
        "id": "udJkXiDLq1JU"
      },
      "id": "udJkXiDLq1JU",
      "execution_count": null,
      "outputs": []
    },
    {
      "cell_type": "code",
      "source": [
        "silhouette_scores = [] \n",
        "\n",
        "for n_cluster in range(2, 10):\n",
        "    silhouette_scores.append( \n",
        "        silhouette_score(X_principal, KMeans(n_clusters = n_cluster).fit_predict(X_principal))) \n",
        "    \n",
        "# Plotting a bar graph to compare the results \n",
        "k = [2, 3, 4, 5, 6,7,8,9] \n",
        "plt.bar(k, silhouette_scores) \n",
        "plt.xlabel('Number of clusters', fontsize = 10) \n",
        "plt.ylabel('Silhouette Score', fontsize = 10) \n",
        "plt.savefig(\"p3.png\")\n",
        "plt.show() "
      ],
      "metadata": {
        "id": "95PJJXlCq-1l",
        "colab": {
          "base_uri": "https://localhost:8080/",
          "height": 279
        },
        "outputId": "18c256c7-6a11-4fa6-c320-e58fee6e1d92"
      },
      "id": "95PJJXlCq-1l",
      "execution_count": null,
      "outputs": [
        {
          "output_type": "display_data",
          "data": {
            "text/plain": [
              "<Figure size 432x288 with 1 Axes>"
            ],
            "image/png": "[encoded data removed]"
          },
          "metadata": {
            "needs_background": "light"
          }
        }
      ]
    },
    {
      "cell_type": "markdown",
      "source": [
        "#### k=3"
      ],
      "metadata": {
        "id": "Aw_-gJuxsIvr"
      },
      "id": "Aw_-gJuxsIvr"
    },
    {
      "cell_type": "code",
      "source": [
        "kmeans = KMeans(n_clusters=3)\n",
        "kmeans.fit(X_principal)"
      ],
      "metadata": {
        "colab": {
          "base_uri": "https://localhost:8080/"
        },
        "id": "UFEpRIigsKyy",
        "outputId": "0aa97df2-cb04-47ef-89f4-41b610577127"
      },
      "id": "UFEpRIigsKyy",
      "execution_count": null,
      "outputs": [
        {
          "output_type": "execute_result",
          "data": {
            "text/plain": [
              "KMeans(n_clusters=3)"
            ]
          },
          "metadata": {},
          "execution_count": 85
        }
      ]
    },
    {
      "cell_type": "code",
      "source": [
        "# Visualizing the clustering \n",
        "plt.scatter(X_principal['P1'], X_principal['P2'],  \n",
        "           c = KMeans(n_clusters = 3).fit_predict(X_principal), cmap =plt.cm.winter) \n",
        "plt.savefig(\"p4.png\")\n",
        "plt.show()"
      ],
      "metadata": {
        "colab": {
          "base_uri": "https://localhost:8080/",
          "height": 265
        },
        "id": "ZMwUQpvhsQ_6",
        "outputId": "cab47284-4bae-4e1d-ce76-7c31390128cf"
      },
      "id": "ZMwUQpvhsQ_6",
      "execution_count": null,
      "outputs": [
        {
          "output_type": "display_data",
          "data": {
            "text/plain": [
              "<Figure size 432x288 with 1 Axes>"
            ],
            "image/png": "[encoded data removed]"
          },
          "metadata": {
            "needs_background": "light"
          }
        }
      ]
    },
    {
      "cell_type": "markdown",
      "source": [
        "### Hierarchical Agglomerative Clustering (HAC)\n"
      ],
      "metadata": {
        "id": "yDKLGgGyd1pY"
      },
      "id": "yDKLGgGyd1pY"
    },
    {
      "cell_type": "code",
      "source": [
        "from sklearn.preprocessing import StandardScaler\n",
        "ss = StandardScaler()\n",
        "X_train_s = ss.fit_transform(X_train)\n",
        "X_test_s = ss.transform(X_test)"
      ],
      "metadata": {
        "id": "aBc6f4gosSVY"
      },
      "id": "aBc6f4gosSVY",
      "execution_count": null,
      "outputs": []
    },
    {
      "cell_type": "code",
      "source": [
        "from sklearn.cluster import AgglomerativeClustering\n",
        "\n",
        "ac = AgglomerativeClustering(n_clusters=2, linkage='ward', compute_full_tree=False)\n",
        "model_ac = ac.fit(X_train_s)\n",
        "train_predicted = model_ac.fit_predict(X_train_s)\n",
        "test_predicted = model_ac.fit_predict(X_test_s)\n",
        "print(train_predicted.shape, y_train.shape)\n",
        "print(test_predicted.shape, y_test.shape)"
      ],
      "metadata": {
        "id": "_4tnq5kIeG19",
        "colab": {
          "base_uri": "https://localhost:8080/"
        },
        "outputId": "70a227d4-7bcf-4bdd-857e-4987eca30893"
      },
      "id": "_4tnq5kIeG19",
      "execution_count": null,
      "outputs": [
        {
          "output_type": "stream",
          "name": "stdout",
          "text": [
            "(8884,) (8884,)\n",
            "(2221,) (2221,)\n"
          ]
        }
      ]
    },
    {
      "cell_type": "markdown",
      "source": [
        "#### Accuracy"
      ],
      "metadata": {
        "id": "scLux--vePyp"
      },
      "id": "scLux--vePyp"
    },
    {
      "cell_type": "code",
      "source": [
        "from sklearn.metrics import accuracy_score\n",
        "train_accuracy = accuracy_score(y_train, train_predicted)\n",
        "test_accuracy = accuracy_score(y_test, test_predicted)\n",
        "\n",
        "from sklearn.metrics import classification_report\n",
        "print(\"Le rapport de l'ensemble d'apprentissage: \\n\",classification_report(y_train,train_predicted))\n",
        "print(\"Le rapport de l'ensemble de test: \\n\",classification_report(y_test,test_predicted))\n"
      ],
      "metadata": {
        "id": "0Mo0B8_DeRsl",
        "colab": {
          "base_uri": "https://localhost:8080/"
        },
        "outputId": "a7a4ef54-47c1-46f4-c3cc-1be2e8b865a9"
      },
      "id": "0Mo0B8_DeRsl",
      "execution_count": null,
      "outputs": [
        {
          "output_type": "stream",
          "name": "stdout",
          "text": [
            "Le rapport de l'ensemble d'apprentissage: \n",
            "               precision    recall  f1-score   support\n",
            "\n",
            "           0       0.58      0.86      0.69      4670\n",
            "           1       0.66      0.30      0.41      4214\n",
            "\n",
            "    accuracy                           0.59      8884\n",
            "   macro avg       0.62      0.58      0.55      8884\n",
            "weighted avg       0.61      0.59      0.56      8884\n",
            "\n",
            "Le rapport de l'ensemble de test: \n",
            "               precision    recall  f1-score   support\n",
            "\n",
            "           0       0.55      0.96      0.70      1175\n",
            "           1       0.70      0.11      0.19      1046\n",
            "\n",
            "    accuracy                           0.56      2221\n",
            "   macro avg       0.63      0.54      0.45      2221\n",
            "weighted avg       0.62      0.56      0.46      2221\n",
            "\n"
          ]
        }
      ]
    },
    {
      "cell_type": "markdown",
      "source": [
        "### DBSCAN"
      ],
      "metadata": {
        "id": "R_OHQrKHeVp1"
      },
      "id": "R_OHQrKHeVp1"
    },
    {
      "cell_type": "code",
      "source": [
        "from sklearn.cluster import DBSCAN\n",
        "\n",
        "dbs = DBSCAN(eps=3, min_samples=500)\n",
        "\n",
        "model_dbs = dbs.fit(X_train_s)\n",
        "predicted_train = list(map(lambda x: x+1, model_dbs.fit_predict(X_train_s)))\n",
        "predicted_test = list(map(lambda x: x+1, model_dbs.fit_predict(X_test_s)))"
      ],
      "metadata": {
        "id": "7OcWpGTFebEL"
      },
      "id": "7OcWpGTFebEL",
      "execution_count": null,
      "outputs": []
    },
    {
      "cell_type": "markdown",
      "source": [
        "####Accuracy"
      ],
      "metadata": {
        "id": "tzyE5pjqeirr"
      },
      "id": "tzyE5pjqeirr"
    },
    {
      "cell_type": "code",
      "source": [
        "from sklearn.metrics import accuracy_score\n",
        "train_accuracy = accuracy_score(y_train, predicted_train)\n",
        "test_accuracy = accuracy_score(y_test, predicted_test)\n",
        "\n",
        "\n",
        "print(\"Le rapport de l'ensemble d'apprentissage: \\n\",classification_report(y_train,predicted_train))\n",
        "print(\"Le rapport de l'ensemble de test: \\n\",classification_report(y_test,predicted_test))\n"
      ],
      "metadata": {
        "id": "oSloX_29egr1",
        "colab": {
          "base_uri": "https://localhost:8080/"
        },
        "outputId": "c0aa2e29-9a71-4961-abd2-36e28825d51c"
      },
      "id": "oSloX_29egr1",
      "execution_count": null,
      "outputs": [
        {
          "output_type": "stream",
          "name": "stdout",
          "text": [
            "Le rapport de l'ensemble d'apprentissage: \n",
            "               precision    recall  f1-score   support\n",
            "\n",
            "           0       0.53      1.00      0.69      4670\n",
            "           1       0.00      0.00      0.00      4214\n",
            "\n",
            "    accuracy                           0.53      8884\n",
            "   macro avg       0.26      0.50      0.34      8884\n",
            "weighted avg       0.28      0.53      0.36      8884\n",
            "\n",
            "Le rapport de l'ensemble de test: \n",
            "               precision    recall  f1-score   support\n",
            "\n",
            "           0       0.53      1.00      0.69      1175\n",
            "           1       0.00      0.00      0.00      1046\n",
            "\n",
            "    accuracy                           0.53      2221\n",
            "   macro avg       0.26      0.50      0.35      2221\n",
            "weighted avg       0.28      0.53      0.37      2221\n",
            "\n"
          ]
        },
        {
          "output_type": "stream",
          "name": "stderr",
          "text": [
            "/usr/local/lib/python3.8/dist-packages/sklearn/metrics/_classification.py:1318: UndefinedMetricWarning: Precision and F-score are ill-defined and being set to 0.0 in labels with no predicted samples. Use `zero_division` parameter to control this behavior.\n",
            "  _warn_prf(average, modifier, msg_start, len(result))\n",
            "/usr/local/lib/python3.8/dist-packages/sklearn/metrics/_classification.py:1318: UndefinedMetricWarning: Precision and F-score are ill-defined and being set to 0.0 in labels with no predicted samples. Use `zero_division` parameter to control this behavior.\n",
            "  _warn_prf(average, modifier, msg_start, len(result))\n",
            "/usr/local/lib/python3.8/dist-packages/sklearn/metrics/_classification.py:1318: UndefinedMetricWarning: Precision and F-score are ill-defined and being set to 0.0 in labels with no predicted samples. Use `zero_division` parameter to control this behavior.\n",
            "  _warn_prf(average, modifier, msg_start, len(result))\n",
            "/usr/local/lib/python3.8/dist-packages/sklearn/metrics/_classification.py:1318: UndefinedMetricWarning: Precision and F-score are ill-defined and being set to 0.0 in labels with no predicted samples. Use `zero_division` parameter to control this behavior.\n",
            "  _warn_prf(average, modifier, msg_start, len(result))\n",
            "/usr/local/lib/python3.8/dist-packages/sklearn/metrics/_classification.py:1318: UndefinedMetricWarning: Precision and F-score are ill-defined and being set to 0.0 in labels with no predicted samples. Use `zero_division` parameter to control this behavior.\n",
            "  _warn_prf(average, modifier, msg_start, len(result))\n",
            "/usr/local/lib/python3.8/dist-packages/sklearn/metrics/_classification.py:1318: UndefinedMetricWarning: Precision and F-score are ill-defined and being set to 0.0 in labels with no predicted samples. Use `zero_division` parameter to control this behavior.\n",
            "  _warn_prf(average, modifier, msg_start, len(result))\n"
          ]
        }
      ]
    },
    {
      "cell_type": "markdown",
      "source": [
        "# Deep Learning"
      ],
      "metadata": {
        "id": "doLErGaOoVO_"
      },
      "id": "doLErGaOoVO_"
    },
    {
      "cell_type": "markdown",
      "metadata": {
        "id": "JfJDpzyEoYNw"
      },
      "source": [
        "### MLP"
      ],
      "id": "JfJDpzyEoYNw"
    },
    {
      "cell_type": "code",
      "source": [
        "mlp = MLPClassifier()\n",
        "mlp.fit(X_train_s, y_train)\n",
        "mlpprediction = mlp.predict(X_test_s)\n",
        "print(\"Valeur prédictée :\", mlpprediction[:10])\n",
        "print(\"Valeur actuelle :\", y_test[:10])"
      ],
      "metadata": {
        "colab": {
          "base_uri": "https://localhost:8080/"
        },
        "id": "PSnsVYvyeJ-Y",
        "outputId": "9131f9d6-a6af-4d7d-9308-ea2793bee5fd"
      },
      "id": "PSnsVYvyeJ-Y",
      "execution_count": null,
      "outputs": [
        {
          "output_type": "stream",
          "name": "stdout",
          "text": [
            "Valeur prédictée : [0 1 0 1 1 1 1 1 1 1]\n",
            "Valeur actuelle : 5785    0\n",
            "9850    0\n",
            "5308    0\n",
            "4639    1\n",
            "3771    1\n",
            "9098    0\n",
            "1409    1\n",
            "1801    1\n",
            "3702    1\n",
            "4557    1\n",
            "Name: deposit, dtype: int64\n"
          ]
        },
        {
          "output_type": "stream",
          "name": "stderr",
          "text": [
            "/usr/local/lib/python3.8/dist-packages/sklearn/neural_network/_multilayer_perceptron.py:692: ConvergenceWarning: Stochastic Optimizer: Maximum iterations (200) reached and the optimization hasn't converged yet.\n",
            "  warnings.warn(\n"
          ]
        }
      ]
    },
    {
      "cell_type": "markdown",
      "metadata": {
        "id": "e3jOwYbxoYNx"
      },
      "source": [
        "#### Evaluation de performance de MLP"
      ],
      "id": "e3jOwYbxoYNx"
    },
    {
      "cell_type": "code",
      "execution_count": null,
      "metadata": {
        "colab": {
          "base_uri": "https://localhost:8080/"
        },
        "id": "PEFB4nnyoYNx",
        "outputId": "c9ef48c7-434c-4311-ef45-fa561f979e46"
      },
      "outputs": [
        {
          "output_type": "stream",
          "name": "stdout",
          "text": [
            "Le score d'accuracy des tests est 82.08%\n",
            "Le score d'accuracy du train est 90.12%\n"
          ]
        }
      ],
      "source": [
        "mlp_test_accuracy=metrics.accuracy_score(y_test,mlpprediction)\n",
        "mlp_train_accuracy=mlp.score(X_train_s,y_train)\n",
        "print(f\"Le score d'accuracy des tests est {mlp_test_accuracy*100:.2f}%\")\n",
        "print(f\"Le score d'accuracy du train est {mlp_train_accuracy*100:.2f}%\")"
      ],
      "id": "PEFB4nnyoYNx"
    },
    {
      "cell_type": "markdown",
      "source": [
        "### CNN"
      ],
      "metadata": {
        "id": "bvk9gI4coguz"
      },
      "id": "bvk9gI4coguz"
    },
    {
      "cell_type": "code",
      "source": [
        "import tensorflow as tf\n",
        "from keras.models import Sequential\n",
        "from keras.layers import Dense, Dropout, Activation, Conv1D, MaxPooling1D, Flatten\n",
        "from keras.optimizers import Adam"
      ],
      "metadata": {
        "id": "C16A33qEoguz"
      },
      "execution_count": null,
      "outputs": [],
      "id": "C16A33qEoguz"
    },
    {
      "cell_type": "code",
      "source": [
        "X_train = X_train_s / 255\n",
        "X_test = X_test_s / 255"
      ],
      "metadata": {
        "id": "BMnUxKpvogu0"
      },
      "execution_count": null,
      "outputs": [],
      "id": "BMnUxKpvogu0"
    },
    {
      "cell_type": "code",
      "source": [
        "# Create the model\n",
        "model = Sequential()\n",
        "# Add a 1D convolutional layer with 64 filters and kernel size of 3, inpu_shape (29 features, and 1 output binary classification)\n",
        "model.add(Conv1D(filters=64, kernel_size=3, input_shape=(31, 1)))\n",
        "# Add a ReLU activation function\n",
        "model.add(Activation('relu'))\n",
        "# Add a max pooling layer with pool size of 2\n",
        "model.add(MaxPooling1D(pool_size=2))\n",
        "# Flatten the output of the max pooling layer\n",
        "model.add(Flatten())\n",
        "# Add a dense layer with 64 units and ReLU activation\n",
        "model.add(Dense(64, activation='relu'))\n",
        "# Add a dropout layer with dropout rate of 0.5\n",
        "model.add(Dropout(0.5))\n",
        "# Add a final dense layer with 2 units and softmax activation for output\n",
        "model.add(Dense(2, activation='softmax'))"
      ],
      "metadata": {
        "id": "iV_GvV8Zogu0"
      },
      "execution_count": null,
      "outputs": [],
      "id": "iV_GvV8Zogu0"
    },
    {
      "cell_type": "code",
      "source": [
        "model.compile(loss='sparse_categorical_crossentropy', optimizer=Adam(), metrics=['accuracy'])"
      ],
      "metadata": {
        "id": "aQBGUaVLogu0"
      },
      "execution_count": null,
      "outputs": [],
      "id": "aQBGUaVLogu0"
    },
    {
      "cell_type": "code",
      "source": [
        "X_train.shape"
      ],
      "metadata": {
        "colab": {
          "base_uri": "https://localhost:8080/"
        },
        "id": "MF86pOoAogu1",
        "outputId": "be637a02-d608-48e3-bba6-ff6f93765ac4"
      },
      "execution_count": null,
      "outputs": [
        {
          "output_type": "execute_result",
          "data": {
            "text/plain": [
              "(8884, 31)"
            ]
          },
          "metadata": {},
          "execution_count": 89
        }
      ],
      "id": "MF86pOoAogu1"
    },
    {
      "cell_type": "code",
      "source": [
        "model.fit(X_train, y_train, batch_size=32, epochs=10, validation_data=(X_test, y_test))"
      ],
      "metadata": {
        "colab": {
          "base_uri": "https://localhost:8080/"
        },
        "id": "gcUsTpcpogu1",
        "outputId": "cb2aa15c-7b3b-42ef-9533-f0fc74f16844"
      },
      "execution_count": null,
      "outputs": [
        {
          "output_type": "stream",
          "name": "stdout",
          "text": [
            "Epoch 1/10\n",
            "278/278 [==============================] - 2s 5ms/step - loss: 0.6914 - accuracy: 0.5247 - val_loss: 0.6905 - val_accuracy: 0.5290\n",
            "Epoch 2/10\n",
            "278/278 [==============================] - 1s 5ms/step - loss: 0.6809 - accuracy: 0.5576 - val_loss: 0.6562 - val_accuracy: 0.6736\n",
            "Epoch 3/10\n",
            "278/278 [==============================] - 1s 4ms/step - loss: 0.6285 - accuracy: 0.6561 - val_loss: 0.5953 - val_accuracy: 0.7064\n",
            "Epoch 4/10\n",
            "278/278 [==============================] - 2s 7ms/step - loss: 0.5873 - accuracy: 0.6852 - val_loss: 0.5618 - val_accuracy: 0.7168\n",
            "Epoch 5/10\n",
            "278/278 [==============================] - 2s 9ms/step - loss: 0.5654 - accuracy: 0.7050 - val_loss: 0.5459 - val_accuracy: 0.7271\n",
            "Epoch 6/10\n",
            "278/278 [==============================] - 2s 9ms/step - loss: 0.5513 - accuracy: 0.7151 - val_loss: 0.5377 - val_accuracy: 0.7294\n",
            "Epoch 7/10\n",
            "278/278 [==============================] - 1s 5ms/step - loss: 0.5390 - accuracy: 0.7235 - val_loss: 0.5191 - val_accuracy: 0.7456\n",
            "Epoch 8/10\n",
            "278/278 [==============================] - 1s 4ms/step - loss: 0.5258 - accuracy: 0.7346 - val_loss: 0.5057 - val_accuracy: 0.7533\n",
            "Epoch 9/10\n",
            "278/278 [==============================] - 1s 4ms/step - loss: 0.5161 - accuracy: 0.7456 - val_loss: 0.4955 - val_accuracy: 0.7618\n",
            "Epoch 10/10\n",
            "278/278 [==============================] - 1s 4ms/step - loss: 0.5036 - accuracy: 0.7528 - val_loss: 0.4852 - val_accuracy: 0.7722\n"
          ]
        },
        {
          "output_type": "execute_result",
          "data": {
            "text/plain": [
              "<keras.callbacks.History at 0x7fc15a0a2130>"
            ]
          },
          "metadata": {},
          "execution_count": 90
        }
      ],
      "id": "gcUsTpcpogu1"
    },
    {
      "cell_type": "markdown",
      "source": [
        "#### Evaluation de performance de CNN"
      ],
      "metadata": {
        "id": "6GYnr4SRogu1"
      },
      "id": "6GYnr4SRogu1"
    },
    {
      "cell_type": "code",
      "source": [
        "# Evaluate the model\n",
        "# Get the accuracy score on the test data\n",
        "score = model.evaluate(X_test, y_test, verbose=0)\n",
        "print(\"Test accuracy:\", score[1])\n"
      ],
      "metadata": {
        "colab": {
          "base_uri": "https://localhost:8080/"
        },
        "id": "Vmfdg3nFogu1",
        "outputId": "b4119b75-8c8d-4477-a189-b1867e1e911b"
      },
      "execution_count": null,
      "outputs": [
        {
          "output_type": "stream",
          "name": "stdout",
          "text": [
            "Test accuracy: 0.7721747159957886\n"
          ]
        }
      ],
      "id": "Vmfdg3nFogu1"
    }
  ],
  "metadata": {
    "kernelspec": {
      "display_name": "Python 3",
      "language": "python",
      "name": "python3"
    },
    "language_info": {
      "codemirror_mode": {
        "name": "ipython",
        "version": 3
      },
      "file_extension": ".py",
      "mimetype": "text/x-python",
      "name": "python",
      "nbconvert_exporter": "python",
      "pygments_lexer": "ipython3",
      "version": "3.7.4"
    },
    "colab": {
      "provenance": [],
      "include_colab_link": true
    }
  },
  "nbformat": 4,
  "nbformat_minor": 5
}